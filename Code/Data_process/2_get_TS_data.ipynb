{
 "cells": [
  {
   "cell_type": "code",
   "execution_count": null,
   "id": "8df88761-3c94-4419-8d02-8295907ad9e7",
   "metadata": {},
   "outputs": [],
   "source": [
    "import numpy as np\n",
    "import dill\n",
    "import pandas as pd\n",
    "\n",
    "import datetime as dt\n",
    "from tqdm import tqdm\n",
    "from collections import defaultdict, Counter\n",
    "\n",
    "import warnings\n",
    "\n",
    "warnings.filterwarnings(\"ignore\")"
   ]
  },
  {
   "cell_type": "code",
   "execution_count": null,
   "id": "cbcfda99-0dc0-4dea-a354-c013ba7f7cdb",
   "metadata": {},
   "outputs": [],
   "source": [
    "III = pd.read_csv('ouput/Final_III_0.csv')\n",
    "print(III.shape,len(III.HADM_ID.unique()),len(III.ICUSTAY_ID.unique()))\n",
    "III['DIEINHOSPITAL'].value_counts()bb"
   ]
  },
  {
   "cell_type": "code",
   "execution_count": null,
   "id": "8110702a-ae81-4d30-8f08-e8b48bce0b32",
   "metadata": {},
   "outputs": [],
   "source": [
    "c_dict = {#included ts itemid and corresponding text\n",
    "}\n",
    "print(len(c_dict))\n",
    "\n",
    "all_charts = [int(item.split('_')[-1]) for item in list(c_dict.keys())]\n",
    "all_charts = list(pd.unique(all_charts))\n",
    "len(all_charts)"
   ]
  },
  {
   "cell_type": "code",
   "execution_count": null,
   "id": "74bf7124-5614-47ca-a4ad-75a49079f8b1",
   "metadata": {},
   "outputs": [],
   "source": [
    "#CHARTEVENTS\n",
    "dataset_path = 'input/CHARTEVENTS.csv.gz'\n",
    "\n",
    "chunksize = 10000000\n",
    "final=pd.DataFrame()\n",
    "for chunk in tqdm(pd.read_csv(dataset_path, compression='gzip', header=0, index_col=None, chunksize=chunksize)):\n",
    "    chunk = chunk[['ICUSTAY_ID', 'CHARTTIME', 'ITEMID', 'VALUE', 'VALUENUM']]\n",
    "    chunk = chunk[chunk['ICUSTAY_ID'].isin(III['ICUSTAY_ID'])]\n",
    "    chunk = chunk[chunk['ITEMID'].isin(all_charts)]\n",
    "    chunk = chunk.dropna(subset=['VALUE', 'VALUENUM'], how='all')\n",
    "    if chunk.shape[0] > 0:\n",
    "        final = pd.concat([final, chunk], ignore_index=True)"
   ]
  },
  {
   "cell_type": "code",
   "execution_count": null,
   "id": "43e92654-5c21-4bcc-978b-bdcd17a5877d",
   "metadata": {},
   "outputs": [],
   "source": [
    "print(len(final.ICUSTAY_ID.unique()))\n",
    "print(final[final.VALUENUM.isna()].shape)"
   ]
  },
  {
   "cell_type": "code",
   "execution_count": null,
   "id": "457aefef-dbf8-41a6-846e-9f235aa60fef",
   "metadata": {},
   "outputs": [],
   "source": [
    "def is_numeric(value):\n",
    "    try:\n",
    "        float(value)\n",
    "        return True\n",
    "    except (ValueError, TypeError):\n",
    "        return False"
   ]
  },
  {
   "cell_type": "code",
   "execution_count": null,
   "id": "a3707a09-b1c9-4f99-8be6-7ca6c5d1a0f5",
   "metadata": {},
   "outputs": [],
   "source": [
    "final_match = pd.merge(final,III[['HADM_ID','ICUSTAY_ID','INTIME', 'OUTTIME']],on='ICUSTAY_ID',how='left')\n",
    "print(final_match.shape)\n",
    "\n",
    "final_match['INTIME'] = pd.to_datetime(final_match['INTIME'])\n",
    "final_match['OUTTIME'] = pd.to_datetime(final_match['OUTTIME'])\n",
    "final_match['CHARTTIME'] = pd.to_datetime(final_match['CHARTTIME'])\n",
    "\n",
    "within_criteria = final_match['CHARTTIME'].between(final_match['INTIME'],final_match['OUTTIME'])\n",
    "within = final_match[within_criteria]\n",
    "\n",
    "within['event_time_from_admit'] = within['CHARTTIME'] - within['INTIME']\n",
    "within['start_time']=within['event_time_from_admit'].dt.total_seconds() / 3600\n",
    "within['los'] = (within['OUTTIME'] - within['INTIME']).dt.total_seconds() / 3600\n",
    "within=within[within['start_time']>=0]\n",
    "print(within.shape)\n",
    "\n",
    "within_48 = within[within['start_time']<=48]\n",
    "print(within_48.shape)\n",
    "\n",
    "within_48['is_numeric'] = within_48['VALUENUM'].apply(is_numeric)\n",
    "\n",
    "result = within_48.groupby('ITEMID')['is_numeric'].all().reset_index()\n",
    "result.rename(columns={'is_numeric': 'is_fully_numeric'}, inplace=True)\n",
    "\n",
    "num_col = result[result.is_fully_numeric==True].ITEMID.values\n",
    "print(len(within_48.ITEMID.value_counts()),len(num_col))\n",
    "\n",
    "within_48_make = within_48[['ICUSTAY_ID','ITEMID','VALUENUM']]\n",
    "agg_df = within_48_make.groupby(['ICUSTAY_ID', 'ITEMID'])['VALUENUM'].agg(\n",
    "    min='min', \n",
    "    max='max', \n",
    "    mean='mean', \n",
    "    median='median'\n",
    ").reset_index()\n",
    "\n",
    "print(agg_df.head())\n",
    "\n",
    "agg_df =agg_df.drop_duplicates()\n",
    "matching_columns = list(c_dict.keys())\n",
    "\n",
    "agg_df['ITEMID'] = agg_df['ITEMID'].astype(str)\n",
    "agg_df = agg_df[agg_df['ITEMID'].isin(matching_columns)]\n",
    "agg_df['ITEMID'] = agg_df['ITEMID'].map(c_dict)\n",
    "print(agg_df.head())\n",
    "\n",
    "print(len(agg_df.ITEMID.unique()))\n",
    "print(agg_df.ITEMID.value_counts())\n",
    "\n",
    "pivot_df = agg_df.pivot_table(\n",
    "    index='ICUSTAY_ID', \n",
    "    columns='ITEMID', \n",
    "    values=['min', 'max', 'mean', 'median'],\n",
    "    aggfunc='first'  \n",
    ")\n",
    "\n",
    "pivot_df.columns = [f'{col[1]}_{col[0]}' for col in pivot_df.columns]\n",
    "pivot_df = pivot_df.reset_index()\n",
    "\n",
    "pivot_df = pivot_df.fillna(pivot_df.median())\n",
    "print(pivot_df.columns.tolist())\n",
    "pivot_df.head()"
   ]
  },
  {
   "cell_type": "code",
   "execution_count": null,
   "id": "fb0cf56f-23b0-4884-8124-3d279e907325",
   "metadata": {},
   "outputs": [],
   "source": [
    "def create_Dict(chart):\n",
    "    all_gcs = pd.DataFrame()\n",
    "    \n",
    "    for hid in tqdm(chart.ICUSTAY_ID.unique()):  \n",
    "        df2 = chart[chart['ICUSTAY_ID'] == hid]  \n",
    "        \n",
    "        if df2.shape[0] == 0:\n",
    "            print(f'Empty：{hid}')\n",
    "\n",
    "        else:\n",
    "            val = df2.pivot(index='start_time', columns='ITEMID', values='VALUENUM')\n",
    "            val['GCS'] = val.sum(axis=1)\n",
    "            gcs_min = val['GCS'].min()\n",
    "            gcs_max = val['GCS'].max()\n",
    "            gcs_mean = val['GCS'].mean()\n",
    "            gcs_median = val['GCS'].median()\n",
    "            \n",
    "            val = pd.DataFrame({\n",
    "                'GCS_min': [gcs_min],\n",
    "                'GCS_max': [gcs_max],\n",
    "                'GCS_mean': [gcs_mean],\n",
    "                'GCS_median': [gcs_median]\n",
    "            })\n",
    "\n",
    "            val['ICUSTAY_ID'] = int(hid)\n",
    "\n",
    "            all_gcs = pd.concat([all_gcs,val])\n",
    "    \n",
    "    return all_gcs\n",
    "\n",
    "    \n",
    "final_chart=pd.DataFrame()\n",
    "t=0\n",
    "\n",
    "for i in tqdm(np.arange(0, 48, 0.25)): \n",
    "    sub_chart = within_48[(within_48['start_time'] >= i) & (within_48['start_time'] < i + 0.25)]\n",
    "    sub_chart_num = sub_chart[sub_chart['ITEMID'].isin(num_col)].groupby(['ICUSTAY_ID', 'ITEMID']).agg({'VALUENUM': np.nanmean}).reset_index()\n",
    "    sub_chart = sub_chart_num\n",
    "\n",
    "    sub_chart['start_time'] = t\n",
    "    \n",
    "    if final_chart.empty:\n",
    "        final_chart = sub_chart\n",
    "    else:\n",
    "        final_chart = final_chart.append(sub_chart)\n",
    "\n",
    "    t += 1\n",
    "\n",
    "\n",
    "final_chart = final_chart[final_chart.ITEMID.isin([220739,223901,223900])]\n",
    "final_chart['ITEMID'] = final_chart['ITEMID'].astype(str)\n",
    "final_chart['ITEMID'] = final_chart['ITEMID'].map(c_dict)\n",
    "print(final_chart.ITEMID.value_counts())\n",
    "\n",
    "all_gcs = create_Dict(final_chart)\n",
    "pivot_df = pd.merge(pivot_df,all_gcs,on='ICUSTAY_ID',how='left')\n",
    "pivot_df = pivot_df.fillna(pivot_df.median())\n",
    "print(pivot_df.shape,len(pivot_df.ICUSTAY_ID.unique()))"
   ]
  },
  {
   "cell_type": "code",
   "execution_count": null,
   "id": "41cebc5e-1ab0-48c4-bc82-e21193a7dc57",
   "metadata": {},
   "outputs": [],
   "source": []
  },
  {
   "cell_type": "code",
   "execution_count": null,
   "id": "abed3078-51f4-4402-a14a-b8ec5e5c3f39",
   "metadata": {},
   "outputs": [],
   "source": [
    "#LABEVENTS\n",
    "dataset_path = 'input/LABEVENTS.csv.gz'\n",
    "\n",
    "chunksize = 10000000\n",
    "final=pd.DataFrame()\n",
    "for chunk in tqdm(pd.read_csv(dataset_path, compression='gzip', header=0, index_col=None, chunksize=chunksize)):\n",
    "    chunk.columns = chunk.columns.str.upper()\n",
    "    chunk = chunk[['HADM_ID', 'CHARTTIME', 'ITEMID', 'VALUE', 'VALUENUM']]\n",
    "\n",
    "    chunk = chunk[chunk['HADM_ID'].isin(III['HADM_ID'])]\n",
    "    chunk = chunk[chunk['ITEMID'].isin(all_charts)]\n",
    "    chunk = chunk.dropna(subset=['VALUE', 'VALUENUM'], how='all')\n",
    "    \n",
    "    if chunk.shape[0] > 0:\n",
    "        final = pd.concat([final, chunk], ignore_index=True)\n",
    "        \n",
    "final.ITEMID.value_counts()"
   ]
  },
  {
   "cell_type": "code",
   "execution_count": null,
   "id": "f38f9bb8-ed25-4f35-8c4a-1aa608ecaa68",
   "metadata": {},
   "outputs": [],
   "source": [
    "print(len(final.HADM_ID.unique()))\n",
    "print(final[final.VALUENUM.isna()].shape)"
   ]
  },
  {
   "cell_type": "code",
   "execution_count": null,
   "id": "9b27122b-0965-4e9e-818c-ddf37acf7a88",
   "metadata": {},
   "outputs": [],
   "source": [
    "final_match = pd.merge(final,III[['HADM_ID','ICUSTAY_ID','INTIME', 'OUTTIME']],on='HADM_ID',how='left')\n",
    "print(final_match.shape)\n",
    "\n",
    "final_match['INTIME'] = pd.to_datetime(final_match['INTIME'])\n",
    "final_match['OUTTIME'] = pd.to_datetime(final_match['OUTTIME'])\n",
    "final_match['CHARTTIME'] = pd.to_datetime(final_match['CHARTTIME'])\n",
    "\n",
    "within_criteria = final_match['CHARTTIME'].between(final_match['INTIME'],final_match['OUTTIME'])\n",
    "within = final_match[within_criteria]\n",
    "\n",
    "within['event_time_from_admit'] = within['CHARTTIME'] - within['INTIME']\n",
    "within['start_time']=within['event_time_from_admit'].dt.total_seconds() / 3600\n",
    "within['los'] = (within['OUTTIME'] - within['INTIME']).dt.total_seconds() / 3600\n",
    "within=within[within['start_time']>=0]\n",
    "print(within.shape)\n",
    "\n",
    "within_48 = within[within['start_time']<=48]\n",
    "print(within_48.shape)\n",
    "\n",
    "within_48['is_numeric'] = within_48['VALUENUM'].apply(is_numeric)\n",
    "\n",
    "result = within_48.groupby('ITEMID')['is_numeric'].all().reset_index()\n",
    "result.rename(columns={'is_numeric': 'is_fully_numeric'}, inplace=True)\n",
    "\n",
    "num_col = result[result.is_fully_numeric==True].ITEMID.values\n",
    "print(len(within_48.ITEMID.value_counts()),len(num_col))\n",
    "\n",
    "within_48_make = within_48[['ICUSTAY_ID','ITEMID','VALUENUM']]\n",
    "agg_df = within_48_make.groupby(['ICUSTAY_ID', 'ITEMID'])['VALUENUM'].agg(\n",
    "    min='min', \n",
    "    max='max', \n",
    "    mean='mean', \n",
    "    median='median'\n",
    ").reset_index()\n",
    "\n",
    "print(agg_df.head())\n",
    "\n",
    "agg_df =agg_df.drop_duplicates()\n",
    "matching_columns = list(c_dict.keys())\n",
    "\n",
    "agg_df['ITEMID'] = agg_df['ITEMID'].astype(str)\n",
    "agg_df = agg_df[agg_df['ITEMID'].isin(matching_columns)]\n",
    "agg_df['ITEMID'] = agg_df['ITEMID'].map(c_dict)\n",
    "print(agg_df.head())\n",
    "\n",
    "print(len(agg_df.ITEMID.unique()))\n",
    "print(agg_df.ITEMID.value_counts())"
   ]
  },
  {
   "cell_type": "code",
   "execution_count": null,
   "id": "8f43b199-6327-4668-905c-755177136874",
   "metadata": {},
   "outputs": [],
   "source": [
    "pivot_lab = agg_df.pivot_table(\n",
    "    index='ICUSTAY_ID', \n",
    "    columns='ITEMID', \n",
    "    values=['min', 'max', 'mean', 'median'],\n",
    "    aggfunc='first'  \n",
    ")\n",
    "\n",
    "pivot_lab.columns = [f'{col[1]}_{col[0]}' for col in pivot_lab.columns]\n",
    "pivot_lab = pivot_lab.reset_index()\n",
    "\n",
    "pivot_lab = pivot_lab.fillna(pivot_lab.median())\n",
    "print(pivot_lab.columns.tolist())\n",
    "pivot_lab.head()"
   ]
  },
  {
   "cell_type": "code",
   "execution_count": null,
   "id": "e972d935-73a1-49d3-a2f8-af0add354a51",
   "metadata": {},
   "outputs": [],
   "source": [
    "final_ts = pd.merge(III[['ICUSTAY_ID']],pivot_df,on='ICUSTAY_ID',how='left')\n",
    "final_ts = pd.merge(final_ts,pivot_lab,on='ICUSTAY_ID',how='left')"
   ]
  },
  {
   "cell_type": "code",
   "execution_count": null,
   "id": "f2541acd-b7d1-41ab-ab39-dcdfdc18ad40",
   "metadata": {},
   "outputs": [],
   "source": [
    "final_ts = final_ts[~final_ts[final_ts.columns.difference(['ICUSTAY_ID'])].isna().all(axis=1)]"
   ]
  },
  {
   "cell_type": "code",
   "execution_count": null,
   "id": "968cf408-7645-47b7-ba3a-e3cc37662e62",
   "metadata": {},
   "outputs": [],
   "source": [
    "final_ts.shape"
   ]
  },
  {
   "cell_type": "code",
   "execution_count": null,
   "id": "b1d8857d-5c57-4835-aa2d-399a10a3db43",
   "metadata": {},
   "outputs": [],
   "source": [
    "final_ts = final_ts.fillna(final_ts.median())"
   ]
  },
  {
   "cell_type": "code",
   "execution_count": null,
   "id": "691301bb-2d78-4ecd-ae09-27335959d6a5",
   "metadata": {},
   "outputs": [],
   "source": [
    "Final_III = pd.merge(III,final_ts,on='ICUSTAY_ID',how='left')"
   ]
  },
  {
   "cell_type": "code",
   "execution_count": null,
   "id": "d69b11b9-cbbd-4855-98cc-b2fc615db686",
   "metadata": {},
   "outputs": [],
   "source": [
    "Final_III = Final_III.dropna()"
   ]
  },
  {
   "cell_type": "code",
   "execution_count": null,
   "id": "1108b70f-0c07-4949-975a-165e65012f47",
   "metadata": {},
   "outputs": [],
   "source": [
    "Final_III.to_csv('ouput/Final_III.csv',index=False)"
   ]
  },
  {
   "cell_type": "code",
   "execution_count": null,
   "id": "561a6b5c-a4d9-4b3d-8376-a5ca69b9406c",
   "metadata": {},
   "outputs": [],
   "source": []
  },
  {
   "cell_type": "code",
   "execution_count": null,
   "id": "be944950-a48b-4955-b238-940c7744ea0f",
   "metadata": {},
   "outputs": [],
   "source": []
  }
 ],
 "metadata": {
  "kernelspec": {
   "display_name": "Python 3 (ipykernel)",
   "language": "python",
   "name": "python3"
  },
  "language_info": {
   "codemirror_mode": {
    "name": "ipython",
    "version": 3
   },
   "file_extension": ".py",
   "mimetype": "text/x-python",
   "name": "python",
   "nbconvert_exporter": "python",
   "pygments_lexer": "ipython3",
   "version": "3.8.5"
  }
 },
 "nbformat": 4,
 "nbformat_minor": 5
}
