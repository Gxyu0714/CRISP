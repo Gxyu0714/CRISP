{
 "cells": [
  {
   "cell_type": "markdown",
   "id": "559973fc-7a05-451c-ab8a-790b02e34fe9",
   "metadata": {},
   "source": [
    "## Extract basic patient information (adult patients with ICU stay longer than 24 hours)"
   ]
  },
  {
   "cell_type": "code",
   "execution_count": 1,
   "id": "a291dde9-5b0a-4747-ab13-3024d0d6085a",
   "metadata": {},
   "outputs": [],
   "source": [
    "import numpy as np\n",
    "import dill\n",
    "import pandas as pd\n",
    "\n",
    "import datetime as dt\n",
    "from tqdm import tqdm\n",
    "from collections import defaultdict, Counter\n",
    "\n",
    "import warnings\n",
    "warnings.filterwarnings(\"ignore\")"
   ]
  },
  {
   "cell_type": "code",
   "execution_count": 28,
   "id": "e9ba0ebe-53d0-4bf6-8acf-fc6c6c3c6491",
   "metadata": {},
   "outputs": [],
   "source": [
    "def MIMICiii(ADMISSIONS,ICUSTAYS,PATIENTS):\n",
    "    ADMISSIONS = ADMISSIONS[['SUBJECT_ID', 'HADM_ID','ADMITTIME', 'DISCHTIME','DEATHTIME', 'ADMISSION_TYPE', 'ADMISSION_LOCATION','RACE','HAS_CHARTEVENTS_DATA']]\n",
    "    ICUSTAYS = ICUSTAYS[['HADM_ID', 'ICUSTAY_ID','DBSOURCE','FIRST_CAREUNIT', 'LAST_CAREUNIT', 'FIRST_WARDID', 'LAST_WARDID','INTIME', 'OUTTIME', 'LOS']]\n",
    "    PATIENTS = PATIENTS[['SUBJECT_ID', 'GENDER', 'DOB', 'DOD']]\n",
    "\n",
    "    # Step 1: Merge DataFrames\n",
    "    df = pd.merge(PATIENTS, ADMISSIONS, on='SUBJECT_ID', how='left')\n",
    "    df = pd.merge(df, ICUSTAYS, on='HADM_ID', how='left')\n",
    "    print(df.shape)\n",
    "    \n",
    "    # Step 2: Convert date columns to datetime format\n",
    "    date_columns = ['DOB', 'ADMITTIME', 'DISCHTIME', 'INTIME', 'OUTTIME','DOD']\n",
    "    df[date_columns] = df[date_columns].apply(pd.to_datetime)\n",
    "    \n",
    "    # Step 3: Calculate AGE\n",
    "    df['AGE'] = ((df['ADMITTIME'].dt.date - df['DOB'].dt.date) / 365.242).dt.days\n",
    "    df['AGE'] = df['AGE'].apply(lambda x: 91 if x > 89 else x)\n",
    "    \n",
    "    # Step 4: Filter based on AGE, HAS_CHARTEVENTS_DATA\n",
    "    df = df[df['AGE'] >= 18]\n",
    "    df = df[df['HAS_CHARTEVENTS_DATA'] == 1]\n",
    "    print('AGE >= 18',df.shape)\n",
    "    \n",
    "    # Step 5: Select relevant columns\n",
    "    columns_to_keep = [\n",
    "        'SUBJECT_ID', 'HADM_ID', 'ICUSTAY_ID', 'GENDER', 'ADMITTIME', 'INTIME', 'DISCHTIME', 'OUTTIME',\n",
    "        'DOB', 'DOD', 'DEATHTIME', 'ADMISSION_TYPE', 'ADMISSION_LOCATION', 'RACE', 'HAS_CHARTEVENTS_DATA',\n",
    "        'DBSOURCE', 'FIRST_CAREUNIT', 'LAST_CAREUNIT', 'FIRST_WARDID', 'LAST_WARDID', 'LOS', 'AGE'\n",
    "    ]\n",
    "    df = df[columns_to_keep]\n",
    "    \n",
    "    # Step 6: Sort by SUBJECT_ID and INTIME, and drop rows with missing INTIME\n",
    "    df = df.sort_values(by=['SUBJECT_ID', 'INTIME'])\n",
    "    df = df.dropna(subset=['INTIME'])\n",
    "    \n",
    "    # Step 7: Create the FIRST_HADM column (mark the first ADMITTIME for each SUBJECT_ID)\n",
    "    df['FIRST_HADM'] = df.groupby('SUBJECT_ID')['ADMITTIME'].transform(lambda x: x == x.min()).astype(int)\n",
    "    \n",
    "    # Step 8: Create the FIRST_ICU column (mark the first INTIME for each HADM_ID within SUBJECT_ID)\n",
    "    df['FIRST_ICU'] = df.groupby(['SUBJECT_ID', 'HADM_ID'])['INTIME'].transform(lambda x: x == x.min()).astype(int)\n",
    "    \n",
    "    # Step 9: Filter to keep only rows where both FIRST_HADM and FIRST_ICU are 1\n",
    "    df = df[(df['FIRST_HADM'] == 1) & (df['FIRST_ICU'] == 1)]\n",
    "    print('FIRST_HADM, FIRST_ICU',df.shape)\n",
    "    \n",
    "    # Step 10: Filter for LOS greater than 1\n",
    "    df = df[df['LOS'] > 1]\n",
    "    print('LOS',df.shape)\n",
    "\n",
    "    # Drop rows with missing critical columns\n",
    "    df = df.dropna(subset=['SUBJECT_ID', 'HADM_ID', 'ICUSTAY_ID', 'ADMITTIME', 'INTIME', 'DOB'])\n",
    "    print(df.shape)\n",
    "    \n",
    "    df['DIEINHOSPITAL'] = df.apply(\n",
    "    lambda row: 1 if row['DOD'] >= row['ADMITTIME'] and row['DOD'] <= row['DISCHTIME'] else 0,\n",
    "    axis=1)\n",
    "    \n",
    "    print(df[['DOD','ADMITTIME','DISCHTIME']].head(1))\n",
    "\n",
    "    print('DIEINHOSPITAL:',df['DIEINHOSPITAL'].value_counts())\n",
    "\n",
    "    return df"
   ]
  },
  {
   "cell_type": "code",
   "execution_count": 30,
   "id": "7c57f07f-23ca-4cff-9bf5-5ea831dd1360",
   "metadata": {},
   "outputs": [
    {
     "name": "stdout",
     "output_type": "stream",
     "text": [
      "(62722, 21)\n",
      "AGE >= 18 (52916, 22)\n",
      "FIRST_HADM, FIRST_ICU (38470, 24)\n",
      "LOS (32557, 24)\n",
      "(32557, 24)\n",
      "           DOD           ADMITTIME           DISCHTIME\n",
      "323 2102-06-14 2101-10-20 19:08:00 2101-10-31 13:58:00\n",
      "DIEINHOSPITAL: 0    28971\n",
      "1     3586\n",
      "Name: DIEINHOSPITAL, dtype: int64\n"
     ]
    },
    {
     "data": {
      "text/plain": [
       "(32557, 25)"
      ]
     },
     "execution_count": 30,
     "metadata": {},
     "output_type": "execute_result"
    }
   ],
   "source": [
    "PATIENTS = pd.read_csv('input/PATIENTS.csv.gz')\n",
    "ADMISSIONS = pd.read_csv('input/ADMISSIONS.csv.gz')\n",
    "ICUSTAYS = pd.read_csv('input/ICUSTAYS.csv.gz')\n",
    "\n",
    "ADMISSIONS.columns = ADMISSIONS.columns.str.upper()\n",
    "ICUSTAYS.columns = ICUSTAYS.columns.str.upper()\n",
    "PATIENTS.columns = PATIENTS.columns.str.upper()\n",
    "\n",
    "ADMISSIONS = ADMISSIONS.rename(columns={'ETHNICITY':'RACE'})\n",
    "ICUSTAYS = ICUSTAYS.rename(columns={'STAY_ID':'ICUSTAY_ID'})\n",
    "\n",
    "df = MIMICiii(ADMISSIONS,ICUSTAYS,PATIENTS)\n",
    "df.shape"
   ]
  },
  {
   "cell_type": "code",
   "execution_count": 31,
   "id": "c717d1da-98ae-4f61-ade1-06ca866c6581",
   "metadata": {},
   "outputs": [],
   "source": [
    "df.to_csv('output/III_patients.csv',index=False)"
   ]
  },
  {
   "cell_type": "code",
   "execution_count": null,
   "id": "526baf07-1cbc-47cd-ac90-4766acb0b06f",
   "metadata": {},
   "outputs": [],
   "source": []
  },
  {
   "cell_type": "code",
   "execution_count": 26,
   "id": "ed9d437e-b66b-4d94-b447-526d62f5d0c6",
   "metadata": {},
   "outputs": [],
   "source": [
    "def MIMICiv(ADMISSIONS,ICUSTAYS,PATIENTS):\n",
    "    # Select relevant columns for ADMISSIONS, ICUSTAYS, and PATIENTS\n",
    "    ADMISSIONS = ADMISSIONS[['SUBJECT_ID', 'HADM_ID', 'ADMITTIME', 'DISCHTIME', 'DEATHTIME', 'ADMISSION_TYPE', 'ADMISSION_LOCATION', 'RACE']]\n",
    "    ICUSTAYS = ICUSTAYS[['HADM_ID', 'ICUSTAY_ID', 'FIRST_CAREUNIT', 'LAST_CAREUNIT', 'INTIME', 'OUTTIME', 'LOS']]\n",
    "    PATIENTS['DOB'] = PATIENTS['ANCHOR_YEAR'] - PATIENTS['ANCHOR_AGE']\n",
    "    PATIENTS = PATIENTS[~((PATIENTS.ANCHOR_YEAR_GROUP == '2008 - 2010') | (PATIENTS.ANCHOR_YEAR_GROUP == '2011 - 2013'))]\n",
    "    PATIENTS = PATIENTS[['SUBJECT_ID', 'GENDER', 'DOB', 'DOD','ANCHOR_YEAR_GROUP']]\n",
    "    \n",
    "    # Merge the datasets\n",
    "    df = pd.merge(PATIENTS, ADMISSIONS, on='SUBJECT_ID', how='left')\n",
    "    df = pd.merge(df, ICUSTAYS, on='HADM_ID', how='left')\n",
    "    print(df.shape,'\\n',df.ANCHOR_YEAR_GROUP.value_counts())\n",
    "    \n",
    "    # Convert date columns to datetime\n",
    "    date_columns = ['ADMITTIME', 'DISCHTIME', 'INTIME', 'OUTTIME','DOD']\n",
    "    df[date_columns] = df[date_columns].apply(pd.to_datetime)\n",
    "    \n",
    "    # Create 'DOB' as a complete date by assuming January 1st for each year\n",
    "    df['DOB'] = pd.to_datetime(df['DOB'].astype(str) + '-01-01')\n",
    "    \n",
    "    # Calculate 'AGE' based on 'ADMITTIME' and 'DOB', and adjust for ages above 89\n",
    "    df['AGE'] = ((df['ADMITTIME'].dt.date - df['DOB'].dt.date) / 365.242).dt.days\n",
    "    df['AGE'] = df['AGE'].apply(lambda x: 91 if x > 89 else x)\n",
    "    \n",
    "    # Filter out patients under 18\n",
    "    df = df[df['AGE'] >= 18]\n",
    "    print('AGE >= 18',df.shape)\n",
    "    \n",
    "    # Select specific columns for the final dataframe\n",
    "    df = df[['SUBJECT_ID', 'HADM_ID', 'ICUSTAY_ID', 'ADMITTIME', 'INTIME', 'DISCHTIME', 'OUTTIME', \n",
    "             'GENDER', 'DOB', 'DOD', 'DEATHTIME', 'ADMISSION_TYPE', 'ADMISSION_LOCATION', 'RACE', \n",
    "             'FIRST_CAREUNIT', 'LAST_CAREUNIT', 'LOS', 'AGE']]\n",
    "    \n",
    "    # Sort the dataframe by 'SUBJECT_ID' and 'INTIME'\n",
    "    df = df.sort_values(by=['SUBJECT_ID', 'INTIME'])\n",
    "    \n",
    "    # Drop rows where 'INTIME' is missing\n",
    "    df = df.dropna(subset=['INTIME'])\n",
    "    \n",
    "    # Create a flag for the first admission for each patient\n",
    "    df['FIRST_HADM'] = df.groupby('SUBJECT_ID')['ADMITTIME'].transform(lambda x: x == x.min()).astype(int)\n",
    "    \n",
    "    # Create a flag for the first ICU stay for each patient-HADM combination\n",
    "    df['FIRST_ICU'] = df.groupby(['SUBJECT_ID', 'HADM_ID'])['INTIME'].transform(lambda x: x == x.min()).astype(int)\n",
    "    \n",
    "    # Filter for rows where both FIRST_HADM and FIRST_ICU are 1\n",
    "    df = df[(df['FIRST_HADM'] == 1) & (df['FIRST_ICU'] == 1)]\n",
    "    print('FIRST_HADM, FIRST_ICU',df.shape)\n",
    "    \n",
    "    # Keep rows with LOS greater than 1\n",
    "    df = df[df['LOS'] > 1]\n",
    "    print('LOS',df.shape)\n",
    "    \n",
    "    # Drop rows with missing critical columns\n",
    "    df = df.dropna(subset=['SUBJECT_ID', 'HADM_ID', 'ICUSTAY_ID', 'ADMITTIME', 'INTIME', 'DOB'])\n",
    "\n",
    "    df['ADMITTIME'] = df['ADMITTIME'].dt.date\n",
    "    df['DISCHTIME'] = df['DISCHTIME'].dt.date\n",
    "    \n",
    "    df['DIEINHOSPITAL'] = ((df['ADMITTIME'] <= df['DOD']) & (df['DOD'] <= df['DISCHTIME'])).astype(int)\n",
    "    print(df[['DOD','ADMITTIME','DISCHTIME']].head(1))\n",
    "\n",
    "    print('DIEINHOSPITAL:',df['DIEINHOSPITAL'].value_counts())\n",
    "\n",
    "    return df"
   ]
  },
  {
   "cell_type": "code",
   "execution_count": 32,
   "id": "3392db10-cd2a-4423-968d-18647cba3fd9",
   "metadata": {},
   "outputs": [
    {
     "name": "stdout",
     "output_type": "stream",
     "text": [
      "(285297, 18) \n",
      " 2014 - 2016    121728\n",
      "2017 - 2019     99377\n",
      "2020 - 2022     64192\n",
      "Name: ANCHOR_YEAR_GROUP, dtype: int64\n",
      "AGE >= 18 (208036, 19)\n",
      "FIRST_HADM, FIRST_ICU (34079, 20)\n",
      "LOS (27636, 20)\n",
      "          DOD   ADMITTIME   DISCHTIME\n",
      "47 2162-12-11  2162-02-17  2162-03-04\n",
      "DIEINHOSPITAL: 0    24453\n",
      "1     3183\n",
      "Name: DIEINHOSPITAL, dtype: int64\n"
     ]
    },
    {
     "data": {
      "text/plain": [
       "(27636, 21)"
      ]
     },
     "execution_count": 32,
     "metadata": {},
     "output_type": "execute_result"
    }
   ],
   "source": [
    "PATIENTS = pd.read_csv('input/PATIENTS.csv.gz')\n",
    "ADMISSIONS = pd.read_csv('input/ADMISSIONS.csv.gz')\n",
    "ICUSTAYS = pd.read_csv('input/ICUSTAYS.csv.gz')\n",
    "\n",
    "ADMISSIONS.columns = ADMISSIONS.columns.str.upper()\n",
    "ICUSTAYS.columns = ICUSTAYS.columns.str.upper()\n",
    "PATIENTS.columns = PATIENTS.columns.str.upper()\n",
    "\n",
    "ADMISSIONS = ADMISSIONS.rename(columns={'ETHNICITY':'RACE'})\n",
    "ICUSTAYS = ICUSTAYS.rename(columns={'STAY_ID':'ICUSTAY_ID'})\n",
    "\n",
    "df = MIMICiv(ADMISSIONS,ICUSTAYS,PATIENTS)\n",
    "df.shape"
   ]
  },
  {
   "cell_type": "code",
   "execution_count": 33,
   "id": "c4fc08e9-0c5b-4a67-b496-3995d8ccd7c8",
   "metadata": {},
   "outputs": [],
   "source": [
    "df.to_csv('output/IV_patients.csv',index=False)"
   ]
  },
  {
   "cell_type": "code",
   "execution_count": null,
   "id": "e5e63c05-7455-49aa-a4d1-bc48391a93c8",
   "metadata": {},
   "outputs": [],
   "source": []
  }
 ],
 "metadata": {
  "kernelspec": {
   "display_name": "Python 3 (ipykernel)",
   "language": "python",
   "name": "python3"
  },
  "language_info": {
   "codemirror_mode": {
    "name": "ipython",
    "version": 3
   },
   "file_extension": ".py",
   "mimetype": "text/x-python",
   "name": "python",
   "nbconvert_exporter": "python",
   "pygments_lexer": "ipython3",
   "version": "3.8.5"
  }
 },
 "nbformat": 4,
 "nbformat_minor": 5
}
