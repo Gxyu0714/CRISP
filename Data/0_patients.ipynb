{
 "cells": [
  {
   "cell_type": "markdown",
   "id": "559973fc-7a05-451c-ab8a-790b02e34fe9",
   "metadata": {},
   "source": [
    "## Extract basic patient information (adult patients with ICU stay longer than 24 hours)"
   ]
  },
  {
   "cell_type": "code",
   "execution_count": 1,
   "id": "a291dde9-5b0a-4747-ab13-3024d0d6085a",
   "metadata": {},
   "outputs": [],
   "source": [
    "import numpy as np\n",
    "import dill\n",
    "import pandas as pd\n",
    "\n",
    "import datetime as dt\n",
    "from tqdm import tqdm\n",
    "from collections import defaultdict, Counter\n",
    "\n",
    "import warnings\n",
    "warnings.filterwarnings(\"ignore\")"
   ]
  },
  {
   "cell_type": "code",
   "execution_count": null,
   "id": "78395dcc-141b-430b-9503-0e7817f717b8",
   "metadata": {},
   "outputs": [],
   "source": [
    "ADMISSIONS = pd.read_csv('input/mimiciii/ADMISSIONS.csv.gz')\n",
    "ICUSTAYS = pd.read_csv('input/mimiciii/ICUSTAYS.csv.gz')\n",
    "PATIENTS = pd.read_csv('input/mimiciii/PATIENTS.csv.gz')\n",
    "\n",
    "# ADMISSIONS = pd.read_csv('input/mimiciv/admissions.csv.gz')\n",
    "# ICUSTAYS = pd.read_csv('input/mimiciiv/icustays.csv.gz')\n",
    "# PATIENTS = pd.read_csv('input/mimiciv/patients.csv.gz')\n",
    "\n",
    "ADMISSIONS.columns = ADMISSIONS.columns.str.upper()\n",
    "ICUSTAYS.columns = ICUSTAYS.columns.str.upper()\n",
    "PATIENTS.columns = PATIENTS.columns.str.upper()\n",
    "\n",
    "ADMISSIONS = ADMISSIONS.rename(columns={'ETHNICITY':'RACE'})\n",
    "ICUSTAYS = ICUSTAYS.rename(columns={'STAY_ID':'ICUSTAY_ID'})"
   ]
  },
  {
   "cell_type": "code",
   "execution_count": 290,
   "id": "ed9d437e-b66b-4d94-b447-526d62f5d0c6",
   "metadata": {},
   "outputs": [],
   "source": [
    "def MIMICiv(ADMISSIONS,ICUSTAYS,PATIENTS):\n",
    "    # Select relevant columns for ADMISSIONS, ICUSTAYS, and PATIENTS\n",
    "    ADMISSIONS = ADMISSIONS[['SUBJECT_ID', 'HADM_ID', 'ADMITTIME', 'DISCHTIME', 'DEATHTIME', 'ADMISSION_TYPE', 'ADMISSION_LOCATION', 'RACE']]\n",
    "    ICUSTAYS = ICUSTAYS[['HADM_ID', 'ICUSTAY_ID', 'FIRST_CAREUNIT', 'LAST_CAREUNIT', 'INTIME', 'OUTTIME', 'LOS']]\n",
    "    PATIENTS['DOB'] = PATIENTS['ANCHOR_YEAR'] - PATIENTS['ANCHOR_AGE']\n",
    "    PATIENTS = PATIENTS[['SUBJECT_ID', 'GENDER', 'DOB', 'DOD']]\n",
    "    \n",
    "    # Merge the datasets\n",
    "    df = pd.merge(PATIENTS, ADMISSIONS, on='SUBJECT_ID', how='left')\n",
    "    df = pd.merge(df, ICUSTAYS, on='HADM_ID', how='left')\n",
    "    print(df.shape)\n",
    "    \n",
    "    # Convert date columns to datetime\n",
    "    date_columns = ['ADMITTIME', 'DISCHTIME', 'INTIME', 'OUTTIME']\n",
    "    df[date_columns] = df[date_columns].apply(pd.to_datetime)\n",
    "    \n",
    "    # Create 'DOB' as a complete date by assuming January 1st for each year\n",
    "    df['DOB'] = pd.to_datetime(df['DOB'].astype(str) + '-01-01')\n",
    "    \n",
    "    # Calculate 'AGE' based on 'ADMITTIME' and 'DOB', and adjust for ages above 89\n",
    "    df['AGE'] = ((df['ADMITTIME'].dt.date - df['DOB'].dt.date) / 365.242).dt.days\n",
    "    df['AGE'] = df['AGE'].apply(lambda x: 91 if x > 89 else x)\n",
    "    \n",
    "    # Filter out patients under 18\n",
    "    df = df[df['AGE'] >= 18]\n",
    "    print('AGE >= 18',df.shape)\n",
    "    \n",
    "    # Select specific columns for the final dataframe\n",
    "    df = df[['SUBJECT_ID', 'HADM_ID', 'ICUSTAY_ID', 'ADMITTIME', 'INTIME', 'DISCHTIME', 'OUTTIME', \n",
    "             'GENDER', 'DOB', 'DOD', 'DEATHTIME', 'ADMISSION_TYPE', 'ADMISSION_LOCATION', 'RACE', \n",
    "             'FIRST_CAREUNIT', 'LAST_CAREUNIT', 'LOS', 'AGE']]\n",
    "    \n",
    "    # Sort the dataframe by 'SUBJECT_ID' and 'INTIME'\n",
    "    df = df.sort_values(by=['SUBJECT_ID', 'INTIME'])\n",
    "    \n",
    "    # Drop rows where 'INTIME' is missing\n",
    "    df = df.dropna(subset=['INTIME'])\n",
    "    \n",
    "    # Create a flag for the first admission for each patient\n",
    "    df['FIRST_HADM'] = df.groupby('SUBJECT_ID')['ADMITTIME'].transform(lambda x: x == x.min()).astype(int)\n",
    "    \n",
    "    # Create a flag for the first ICU stay for each patient-HADM combination\n",
    "    df['FIRST_ICU'] = df.groupby(['SUBJECT_ID', 'HADM_ID'])['INTIME'].transform(lambda x: x == x.min()).astype(int)\n",
    "    \n",
    "    # Filter for rows where both FIRST_HADM and FIRST_ICU are 1\n",
    "    df = df[(df['FIRST_HADM'] == 1) & (df['FIRST_ICU'] == 1)]\n",
    "    print('FIRST_HADM, FIRST_ICU',df.shape)\n",
    "    \n",
    "    # Keep rows with LOS greater than 1\n",
    "    df = df[df['LOS'] > 1]\n",
    "    print('LOS',df.shape)\n",
    "    \n",
    "    # Drop rows with missing critical columns\n",
    "    df = df.dropna(subset=['SUBJECT_ID', 'HADM_ID', 'ICUSTAY_ID', 'ADMITTIME', 'INTIME', 'DOB'])\n",
    "    print(df.shape)\n",
    "\n",
    "    return df"
   ]
  },
  {
   "cell_type": "code",
   "execution_count": 291,
   "id": "47d92a2f-498e-49e9-a09a-d3c97cf9abf5",
   "metadata": {},
   "outputs": [],
   "source": [
    "def MIMICiii(ADMISSIONS,ICUSTAYS,PATIENTS):\n",
    "    ADMISSIONS = ADMISSIONS[['SUBJECT_ID', 'HADM_ID','ADMITTIME', 'DISCHTIME','DEATHTIME', 'ADMISSION_TYPE', 'ADMISSION_LOCATION','RACE','HAS_CHARTEVENTS_DATA']]\n",
    "    ICUSTAYS = ICUSTAYS[['HADM_ID', 'ICUSTAY_ID','DBSOURCE','FIRST_CAREUNIT', 'LAST_CAREUNIT', 'FIRST_WARDID', 'LAST_WARDID','INTIME', 'OUTTIME', 'LOS']]\n",
    "    PATIENTS = PATIENTS[['SUBJECT_ID', 'GENDER', 'DOB', 'DOD']]\n",
    "\n",
    "    # Step 1: Merge DataFrames\n",
    "    df = pd.merge(PATIENTS, ADMISSIONS, on='SUBJECT_ID', how='left')\n",
    "    df = pd.merge(df, ICUSTAYS, on='HADM_ID', how='left')\n",
    "    print(df.shape)\n",
    "    \n",
    "    # Step 2: Convert date columns to datetime format\n",
    "    date_columns = ['DOB', 'ADMITTIME', 'DISCHTIME', 'INTIME', 'OUTTIME']\n",
    "    df[date_columns] = df[date_columns].apply(pd.to_datetime)\n",
    "    \n",
    "    # Step 3: Calculate AGE\n",
    "    df['AGE'] = ((df['ADMITTIME'].dt.date - df['DOB'].dt.date) / 365.242).dt.days\n",
    "    df['AGE'] = df['AGE'].apply(lambda x: 91 if x > 89 else x)\n",
    "    \n",
    "    # Step 4: Filter based on AGE, HAS_CHARTEVENTS_DATA\n",
    "    df = df[df['AGE'] >= 18]\n",
    "    df = df[df['HAS_CHARTEVENTS_DATA'] == 1]\n",
    "    print('AGE >= 18',df.shape)\n",
    "    \n",
    "    # Step 5: Select relevant columns\n",
    "    columns_to_keep = [\n",
    "        'SUBJECT_ID', 'HADM_ID', 'ICUSTAY_ID', 'GENDER', 'ADMITTIME', 'INTIME', 'DISCHTIME', 'OUTTIME',\n",
    "        'DOB', 'DOD', 'DEATHTIME', 'ADMISSION_TYPE', 'ADMISSION_LOCATION', 'RACE', 'HAS_CHARTEVENTS_DATA',\n",
    "        'DBSOURCE', 'FIRST_CAREUNIT', 'LAST_CAREUNIT', 'FIRST_WARDID', 'LAST_WARDID', 'LOS', 'AGE'\n",
    "    ]\n",
    "    df = df[columns_to_keep]\n",
    "    \n",
    "    # Step 6: Sort by SUBJECT_ID and INTIME, and drop rows with missing INTIME\n",
    "    df = df.sort_values(by=['SUBJECT_ID', 'INTIME'])\n",
    "    df = df.dropna(subset=['INTIME'])\n",
    "    \n",
    "    # Step 7: Create the FIRST_HADM column (mark the first ADMITTIME for each SUBJECT_ID)\n",
    "    df['FIRST_HADM'] = df.groupby('SUBJECT_ID')['ADMITTIME'].transform(lambda x: x == x.min()).astype(int)\n",
    "    \n",
    "    # Step 8: Create the FIRST_ICU column (mark the first INTIME for each HADM_ID within SUBJECT_ID)\n",
    "    df['FIRST_ICU'] = df.groupby(['SUBJECT_ID', 'HADM_ID'])['INTIME'].transform(lambda x: x == x.min()).astype(int)\n",
    "    \n",
    "    # Step 9: Filter to keep only rows where both FIRST_HADM and FIRST_ICU are 1\n",
    "    df = df[(df['FIRST_HADM'] == 1) & (df['FIRST_ICU'] == 1)]\n",
    "    print('FIRST_HADM, FIRST_ICU',df.shape)\n",
    "    \n",
    "    # Step 10: Filter for LOS greater than 1\n",
    "    df = df[df['LOS'] > 1]\n",
    "    print('LOS',df.shape)\n",
    "\n",
    "    # Drop rows with missing critical columns\n",
    "    df = df.dropna(subset=['SUBJECT_ID', 'HADM_ID', 'ICUSTAY_ID', 'ADMITTIME', 'INTIME', 'DOB'])\n",
    "    print(df.shape)\n",
    "\n",
    "    return df"
   ]
  },
  {
   "cell_type": "code",
   "execution_count": 279,
   "id": "3392db10-cd2a-4423-968d-18647cba3fd9",
   "metadata": {},
   "outputs": [
    {
     "name": "stdout",
     "output_type": "stream",
     "text": [
      "(62722, 21)\n",
      "AGE >= 18 (52916, 22)\n",
      "FIRST_HADM, FIRST_ICU (38470, 24)\n",
      "LOS (32557, 24)\n",
      "(32557, 24)\n"
     ]
    },
    {
     "data": {
      "text/plain": [
       "(32557, 24)"
      ]
     },
     "execution_count": 279,
     "metadata": {},
     "output_type": "execute_result"
    }
   ],
   "source": [
    "df = MIMICiii(ADMISSIONS,ICUSTAYS,PATIENTS)\n",
    "df.shape"
   ]
  },
  {
   "cell_type": "code",
   "execution_count": 292,
   "id": "c75419b1-b529-4f64-8b51-b6b43f862f2e",
   "metadata": {},
   "outputs": [
    {
     "name": "stdout",
     "output_type": "stream",
     "text": [
      "(696419, 17)\n",
      "AGE >= 18 (555243, 18)\n",
      "FIRST_HADM, FIRST_ICU (65366, 20)\n",
      "LOS (51837, 20)\n",
      "(51837, 20)\n"
     ]
    },
    {
     "data": {
      "text/plain": [
       "(51837, 20)"
      ]
     },
     "execution_count": 292,
     "metadata": {},
     "output_type": "execute_result"
    }
   ],
   "source": [
    "df = MIMICiv(ADMISSIONS,ICUSTAYS,PATIENTS)\n",
    "df.shape"
   ]
  },
  {
   "cell_type": "code",
   "execution_count": null,
   "id": "a332e4b5-ce3d-4cfd-9b09-02f3616beaab",
   "metadata": {},
   "outputs": [],
   "source": []
  },
  {
   "cell_type": "code",
   "execution_count": null,
   "id": "18e8468d-38b9-4de5-a3ad-c4b617c42af9",
   "metadata": {},
   "outputs": [],
   "source": []
  }
 ],
 "metadata": {
  "kernelspec": {
   "display_name": "Python 3 (ipykernel)",
   "language": "python",
   "name": "python3"
  },
  "language_info": {
   "codemirror_mode": {
    "name": "ipython",
    "version": 3
   },
   "file_extension": ".py",
   "mimetype": "text/x-python",
   "name": "python",
   "nbconvert_exporter": "python",
   "pygments_lexer": "ipython3",
   "version": "3.8.5"
  }
 },
 "nbformat": 4,
 "nbformat_minor": 5
}
