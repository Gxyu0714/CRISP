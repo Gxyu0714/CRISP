{
 "cells": [
  {
   "cell_type": "code",
   "execution_count": 1,
   "id": "6ae5024e-9952-4105-be0d-482ef9495bd9",
   "metadata": {},
   "outputs": [],
   "source": [
    "import numpy as np\n",
    "import dill\n",
    "import pandas as pd\n",
    "\n",
    "import datetime as dt\n",
    "from tqdm import tqdm\n",
    "from collections import defaultdict, Counter\n",
    "\n",
    "import warnings\n",
    "# 禁用所有警告\n",
    "warnings.filterwarnings(\"ignore\")"
   ]
  },
  {
   "cell_type": "markdown",
   "id": "311429ad-d3d0-4bd2-ab35-e68c55278bab",
   "metadata": {},
   "source": [
    "## Diagnosis"
   ]
  },
  {
   "cell_type": "code",
   "execution_count": 5,
   "id": "d00e5d83-58c3-4bbe-b6e6-ef4b2bebb5ad",
   "metadata": {},
   "outputs": [],
   "source": [
    "ICD_9 = ['V462', 'V1254', 'E8497', 'E8798', 'V440', 'V4611', 'V550', 'V5332', '9971', 'E8782', '99731', '24900', 'E8788', '99702', 'V1251', 'E8889', '9972', '99749', '99739', 'V5331', '9975', '43321', '43311', '99791', 'V420', '40491', '99701', '99709', '99769', '99762', '99779', '43331', 'V427', '39891', '40493', '43301']\n",
    "ICD_10 = ['I95', 'E87', 'R10', 'F10', 'R68', 'J44', 'K70', 'J69', 'I50', 'J98', 'N17', 'K92', 'R09', 'I47', 'D64', 'I25', 'M15', 'M81', 'F41', 'I10', 'I34', 'I21', 'N18', 'I12', 'E11', 'Z51', 'K22', 'G93', 'J45', 'F32', 'Z91', 'I20', 'G61', 'E78', 'E66', 'Z95', 'J18', 'J41', 'R69', 'R00', 'R19', 'D50', 'A04', 'E89', 'A40', 'N39', 'T78', 'K56', 'J47', 'K57', 'R78', 'K76', 'D69', 'I42', 'I27', 'B15', 'J17', 'T81', 'G47', 'E44', 'F05', 'M10', 'L89', 'K26', 'I44', 'K31', 'J15', 'I24', 'Z85', 'I66', 'G44', 'K75', 'I85', 'I61', 'K85', 'D66', 'R93', 'N23', 'K25', 'D70', 'J93', 'H35', 'J30', 'N40', 'G40', 'R06', 'I73', 'F04', 'J81', 'K62', 'R20', 'I26', 'R45', 'T88', 'J84', 'I60', 'B25', 'J43', 'J13', 'T82', 'E88', 'I62', 'R94', 'G97', 'J86', 'J34', 'J95', 'E84', 'L94', 'I76', 'I67', 'I11', 'J40', 'Z23', 'K90', 'J85', 'B37', 'K28', 'J12']"
   ]
  },
  {
   "cell_type": "code",
   "execution_count": 7,
   "id": "0d10d4b3-6b2a-437f-81eb-be547c5e0539",
   "metadata": {},
   "outputs": [],
   "source": [
    "D_ICD_DIAGNOSES = pd.read_csv('input/D_ICD_DIAGNOSES.csv.gz')\n",
    "D_ICD_DIAGNOSES.columns = ['ICD_CODE', 'ICD_VERSION', 'ICD_TEXT']\n",
    "\n",
    "diag_9_10 = pd.read_csv('input/0_diag_9_10.csv')\n",
    "diag_9_10.columns = ['ICD_CODE', 'ROOT']"
   ]
  },
  {
   "cell_type": "code",
   "execution_count": null,
   "id": "671d48dd-12cf-4a6d-bd3b-8c0b75af0fef",
   "metadata": {},
   "outputs": [],
   "source": [
    "# MIMIC IV\n",
    "IV_diagnoses_raw = pd.read_csv('input/diagnoses_icd.csv.gz')\n",
    "\n",
    "# Filter diagnoses by ICD version (9 or 10) and relevant codes\n",
    "IV_diagnoses_raw = IV_diagnoses_raw[\n",
    "    (IV_diagnoses_raw.icd_code.isin(ICD_9) & (IV_diagnoses_raw.icd_version == 9)) |\n",
    "    (IV_diagnoses_raw.icd_code.isin(ICD_10) & (IV_diagnoses_raw.icd_version == 10))\n",
    "]\n",
    "\n",
    "# Print shape and unique ICD codes for initial inspection\n",
    "print(IV_diagnoses_raw.shape, len(IV_diagnoses_raw.icd_code.unique()))\n",
    "\n",
    "# Select relevant columns and rename them to uppercase\n",
    "IV_diagnoses_raw = IV_diagnoses_raw[['subject_id', 'hadm_id', 'icd_code', 'icd_version']]\n",
    "IV_diagnoses_raw.columns = IV_diagnoses_raw.columns.upper()\n",
    "\n",
    "# Group by subject and admission ID, creating a list of ICD codes per root category\n",
    "IV_diagnoses_result = IV_diagnoses.groupby(['SUBJECT_ID', 'HADM_ID', 'ROOT'])['ICD_CODE'].apply(list).reset_index()\n",
    "\n",
    "# Pivot the grouped dataframe on HADM_ID and ROOT\n",
    "IV_diagnoses_result = IV_diagnoses_result.pivot(index='HADM_ID', columns='ROOT', values='ICD_CODE')\n",
    "IV_diagnoses_result = IV_diagnoses_result.reset_index()\n",
    "\n",
    "# Merge raw diagnoses with additional diagnostic data (for ICD-9 and ICD-10)\n",
    "IV_diagnoses = pd.merge(IV_diagnoses_raw[IV_diagnoses_raw.ICD_VERSION == 9], diag_9_10, on='ICD_CODE', how='left')\n",
    "IV_diagnoses = pd.concat([IV_diagnoses, IV_diagnoses_raw[IV_diagnoses_raw.ICD_VERSION == 10]])\n",
    "\n",
    "# Print updated shape and unique ICD codes\n",
    "print(IV_diagnoses.shape, len(IV_diagnoses.ICD_CODE.unique()))\n",
    "\n",
    "# Fill missing ROOT values with ICD_CODE and remove duplicates\n",
    "IV_diagnoses['ROOT'] = IV_diagnoses['ROOT'].fillna(IV_diagnoses['ICD_CODE'])\n",
    "IV_diagnoses = IV_diagnoses.drop_duplicates(subset=['HADM_ID', 'ICD_CODE', 'ICD_VERSION', 'ROOT'], keep='first')\n",
    "\n",
    "# Print updated statistics\n",
    "print(IV_diagnoses.shape, len(IV_diagnoses.ICD_CODE.unique()), len(IV_diagnoses.ROOT.unique()))\n",
    "print(list(IV_diagnoses.ROOT.unique()))\n",
    "\n",
    "# Print ICD version distribution\n",
    "print('\\n\\n', IV_diagnoses.ICD_VERSION.value_counts())\n",
    "\n",
    "# Merge ICD texts for ICD-9 and ICD-10 versions\n",
    "IV_diagnoses_9 = pd.merge(\n",
    "    IV_diagnoses[IV_diagnoses.ICD_VERSION == 9],\n",
    "    D_ICD_DIAGNOSES[D_ICD_DIAGNOSES.ICD_VERSION == 9][['ICD_CODE', 'ICD_TEXT']],\n",
    "    on='ICD_CODE', how='left'\n",
    ")\n",
    "\n",
    "IV_diagnoses_10 = pd.merge(\n",
    "    IV_diagnoses[IV_diagnoses.ICD_VERSION == 10],\n",
    "    D_ICD_DIAGNOSES[D_ICD_DIAGNOSES.ICD_VERSION == 10][['ICD_CODE', 'ICD_TEXT']],\n",
    "    on='ICD_CODE', how='left'\n",
    ")\n",
    "\n",
    "# Concatenate both ICD-9 and ICD-10 diagnosis data\n",
    "IV_diagnoses = pd.concat([IV_diagnoses_9, IV_diagnoses_10])\n",
    "\n",
    "# Print final shape and unique ICD codes/roots\n",
    "print(IV_diagnoses.shape, len(IV_diagnoses.ICD_CODE.unique()), len(IV_diagnoses.ROOT.unique()))\n",
    "\n",
    "# Merge to get unique ICD_CODEs and ICD_TEXT for each SUBJECT_ID and HADM_ID\n",
    "IV_diagnoses_merges00 = IV_diagnoses.groupby(by=['SUBJECT_ID', 'HADM_ID'])['ICD_CODE'].unique().reset_index()\n",
    "IV_diagnoses_merges0 = IV_diagnoses_merges00.merge(\n",
    "    IV_diagnoses.groupby(by=['SUBJECT_ID', 'HADM_ID'])['ICD_TEXT'].unique().reset_index(),\n",
    "    on=['SUBJECT_ID', 'HADM_ID'], how='inner'\n",
    ")\n",
    "# Map ICD_TEXT to a list format\n",
    "IV_diagnoses_merges0['ICD9_TEXT'] = IV_diagnoses_merges0['ICD_TEXT'].map(lambda x: list(x))\n",
    "\n",
    "IV_diagnoses_result = IV_diagnoses.groupby(['SUBJECT_ID','HADM_ID', 'ROOT'])['ICD_CODE'].apply(list).reset_index()\n",
    "IV_diagnoses_result = IV_diagnoses_result.pivot(index='HADM_ID', columns='ROOT', values='ICD_CODE')\n",
    "IV_diagnoses_result = IV_diagnoses_result.reset_index()\n",
    "IV_diagnoses_result.head()"
   ]
  },
  {
   "cell_type": "code",
   "execution_count": null,
   "id": "f7465275-0f74-4343-ae7d-8cb7bc9d2ac1",
   "metadata": {},
   "outputs": [],
   "source": [
    "# MIMIC-III\n",
    "III_diagnoses_raw = pd.read_csv('input/DIAGNOSES_ICD.csv.gz')\n",
    "\n",
    "# Set ICD version to 9 for MIMIC-III data\n",
    "III_diagnoses_raw['ICD_VERSION'] = 9\n",
    "\n",
    "# Filter diagnoses based on ICD9 codes\n",
    "III_diagnoses_raw = III_diagnoses_raw[III_diagnoses_raw.ICD9_CODE.isin(old_d)]\n",
    "\n",
    "# Print shape and unique ICD9 codes for inspection\n",
    "print(III_diagnoses_raw.shape, len(III_diagnoses_raw.ICD9_CODE.unique()))\n",
    "\n",
    "# Select relevant columns and rename them to uppercase\n",
    "III_diagnoses_raw = III_diagnoses_raw[['SUBJECT_ID', 'HADM_ID', 'ICD9_CODE', 'ICD_VERSION']]\n",
    "III_diagnoses_raw.columns = III_diagnoses_raw.columns.upper()\n",
    "\n",
    "# Merge raw diagnoses data with the ICD-9 to ICD-10 conversion table\n",
    "III_diagnoses = pd.merge(\n",
    "    III_diagnoses_raw[III_diagnoses_raw.ICD_VERSION == 9],\n",
    "    diag_9_10,\n",
    "    on='ICD_CODE',\n",
    "    how='left'\n",
    ")\n",
    "\n",
    "# Print updated shape and unique ICD codes\n",
    "print(III_diagnoses.shape, len(III_diagnoses.ICD_CODE.unique()))\n",
    "\n",
    "# Fill missing ROOT values with ICD_CODE and remove duplicates\n",
    "III_diagnoses['ROOT'] = III_diagnoses['ROOT'].fillna(III_diagnoses['ICD_CODE'])\n",
    "III_diagnoses = III_diagnoses.drop_duplicates(subset=['HADM_ID', 'ICD_CODE', 'ICD_VERSION', 'ROOT'], keep='first')\n",
    "\n",
    "# Print updated shape, unique ICD codes, and ROOT values\n",
    "print(III_diagnoses.shape, len(III_diagnoses.ICD_CODE.unique()), len(III_diagnoses.ROOT.unique()))\n",
    "print(list(III_diagnoses.ROOT.unique()))\n",
    "\n",
    "# Print the distribution of ICD versions\n",
    "print('\\n\\n', III_diagnoses.ICD_VERSION.value_counts())\n",
    "\n",
    "# Merge with ICD text descriptions for ICD-9 codes\n",
    "III_diagnoses = pd.merge(\n",
    "    III_diagnoses,\n",
    "    D_ICD_DIAGNOSES[D_ICD_DIAGNOSES.ICD_VERSION == 9][['ICD_CODE', 'ICD_TEXT']],\n",
    "    on='ICD_CODE',\n",
    "    how='left'\n",
    ")\n",
    "\n",
    "# Group by subject and admission ID to get unique ICD codes and texts\n",
    "III_diagnoses_merges00 = III_diagnoses.groupby(by=['SUBJECT_ID', 'HADM_ID'])['ICD_CODE'].unique().reset_index()\n",
    "III_diagnoses_merges0 = III_diagnoses_merges00.merge(\n",
    "    III_diagnoses.groupby(by=['SUBJECT_ID', 'HADM_ID'])['ICD_TEXT'].unique().reset_index(),\n",
    "    on=['SUBJECT_ID', 'HADM_ID'],\n",
    "    how='inner'\n",
    ")\n",
    "\n",
    "# Convert ICD_TEXT to a list format\n",
    "III_diagnoses_merges0['ICD9_TEXT'] = III_diagnoses_merges0['ICD_TEXT'].map(lambda x: list(x))\n",
    "\n",
    "# Display the first 2 rows of merged data\n",
    "III_diagnoses_merges0.head(2)\n",
    "\n",
    "# Group by subject and admission ID to list ICD codes per ROOT category\n",
    "III_diagnoses_result = III_diagnoses.groupby(['SUBJECT_ID', 'HADM_ID', 'ROOT'])['ICD_CODE'].apply(list).reset_index()\n",
    "# Pivot the grouped data to create a matrix for HADM_ID and ROOT categories\n",
    "III_diagnoses_result = III_diagnoses_result.pivot(index='HADM_ID', columns='ROOT', values='ICD_CODE')\n",
    "# Reset the index after pivot\n",
    "III_diagnoses_result = III_diagnoses_result.reset_index()\n",
    "# Display the first few rows of the final result\n",
    "III_diagnoses_result.head()"
   ]
  },
  {
   "cell_type": "code",
   "execution_count": null,
   "id": "d05068bb-711e-4f6b-8b6c-7cdf5bdb4e6c",
   "metadata": {},
   "outputs": [],
   "source": [
    "\n",
    "union = list(set(III_diagnoses_result.columns)&set(IV_diagnoses_result.columns) - set(['HADM_ID']))\n",
    "union = list(pd.unique(union))\n",
    "print(len(union),union)"
   ]
  },
  {
   "cell_type": "code",
   "execution_count": null,
   "id": "52d7c821-2c55-47c3-a88f-6fc2b40e53cd",
   "metadata": {},
   "outputs": [],
   "source": [
    "III_diagnoses_result = III_diagnoses_result[['HADM_ID']+union]\n",
    "IV_diagnoses_result = IV_diagnoses_result[['HADM_ID']+union]\n",
    "\n",
    "print(III_diagnoses_result.shape,len(III_diagnoses_result.HADM_ID.unique()))\n",
    "print(IV_diagnoses_result.shape,len(IV_diagnoses_result.HADM_ID.unique()))"
   ]
  },
  {
   "cell_type": "code",
   "execution_count": null,
   "id": "0b4edf34-6d55-4a93-9a2d-6f0355112322",
   "metadata": {},
   "outputs": [],
   "source": [
    "III_diagnoses_result_missing = III_diagnoses_result[union].isna().mean() * 100\n",
    "IV_diagnoses_result_missing = IV_diagnoses_result[union].isna().mean() * 100\n",
    "\n",
    "keep_d_ids = new_d + list(III_diagnoses_result_missing[III_diagnoses_result_missing<95].index) + list(IV_diagnoses_result_missing[IV_diagnoses_result_missing<95].index)\n",
    "keep_d_ids = list(pd.unique(keep_d_ids))\n",
    "print(len(keep_d_ids),keep_d_ids)"
   ]
  },
  {
   "cell_type": "code",
   "execution_count": null,
   "id": "e2d3a7a1-3106-470a-b202-992e22cdb861",
   "metadata": {},
   "outputs": [],
   "source": [
    "III_diagnoses_result = III_diagnoses_result[['HADM_ID']+keep_d_ids]\n",
    "IV_diagnoses_result = IV_diagnoses_result[['HADM_ID']+keep_d_ids]\n",
    "\n",
    "print(III_diagnoses_result.shape,len(III_diagnoses_result.HADM_ID.unique()))\n",
    "print(IV_diagnoses_result.shape,len(IV_diagnoses_result.HADM_ID.unique()))"
   ]
  },
  {
   "cell_type": "code",
   "execution_count": null,
   "id": "489ccbec-76a5-457b-8340-fb14f06a58fc",
   "metadata": {},
   "outputs": [],
   "source": [
    "III_diagnoses_result.loc[:, III_diagnoses_result.columns != 'HADM_ID'] = III_diagnoses_result.loc[:, III_diagnoses_result.columns != 'HADM_ID'].notna().astype(int)\n",
    "IV_diagnoses_result.loc[:, IV_diagnoses_result.columns != 'HADM_ID'] = IV_diagnoses_result.loc[:, IV_diagnoses_result.columns != 'HADM_ID'].notna().astype(int)"
   ]
  },
  {
   "cell_type": "code",
   "execution_count": null,
   "id": "5eaae19a-d000-478e-a9c8-b72d0bbc132d",
   "metadata": {},
   "outputs": [],
   "source": [
    "III_diagnoses_result.to_csv('output/III_D.csv',index=False)\n",
    "IV_diagnoses_result.to_csv('output/IV_D.csv',index=False)"
   ]
  },
  {
   "cell_type": "code",
   "execution_count": null,
   "id": "1b8f1264-d231-4a0c-b314-604fe7cd59fc",
   "metadata": {},
   "outputs": [],
   "source": []
  },
  {
   "cell_type": "markdown",
   "id": "e1081f91-0eac-4670-a611-3e9c584b5a44",
   "metadata": {},
   "source": [
    "## Procedures"
   ]
  },
  {
   "cell_type": "code",
   "execution_count": null,
   "id": "6a5c803f-3c7b-49ec-b5e7-926d1f630ca1",
   "metadata": {},
   "outputs": [],
   "source": [
    "d_icd_procedures = pd.read_csv('input/d_icd_procedures.csv.gz')\n",
    "d_icd_procedures.columns = ['ICD_CODE', 'ICD_VERSION', 'ICD_TEXT']\n",
    "print(d_icd_procedures.ICD_VERSION.value_counts())\n",
    "d_icd_procedures.head(2)"
   ]
  },
  {
   "cell_type": "code",
   "execution_count": null,
   "id": "732677c6-c7e4-40bf-96af-e6f5c9ae0a83",
   "metadata": {},
   "outputs": [],
   "source": [
    "IV_p_raw = pd.read_csv('input/procedures_icd.csv.gz')\n",
    "IV_p_raw = IV_p_raw[['subject_id', 'hadm_id','icd_code','icd_version']]\n",
    "IV_p_raw.columns = ['SUBJECT_ID', 'HADM_ID','ICD_CODE','ICD_VERSION']\n",
    "IV_p_raw = IV_p_raw[IV_p_raw.ICD_VERSION == 9]\n",
    "IV_p_raw['ICD_CODE'] = IV_p_raw['ICD_CODE'].astype(int)\n",
    "IV_p_raw = IV_p_raw.drop_duplicates(keep='first')\n",
    "print('IV_p_raw',IV_p_raw.shape,len(IV_p_raw.HADM_ID.unique()))\n",
    "\n",
    "III_p_raw = pd.read_csv('input/PROCEDURES_ICD.csv.gz')\n",
    "III_p_raw = III_p_raw[['SUBJECT_ID', 'HADM_ID','ICD9_CODE']]\n",
    "III_p_raw.columns = ['SUBJECT_ID', 'HADM_ID','ICD_CODE']\n",
    "III_p_raw['ICD_VERSION'] = 9\n",
    "III_p_raw = III_p_raw.drop_duplicates(keep='first')\n",
    "print('III_p_raw',III_p_raw.shape,len(III_p_raw.HADM_ID.unique()))"
   ]
  },
  {
   "cell_type": "code",
   "execution_count": null,
   "id": "abf6e21b-b71e-4009-8572-6feb1748153b",
   "metadata": {},
   "outputs": [],
   "source": [
    "union = list(set(III_p_raw.ICD_CODE.unique())&set(IV_p_raw.ICD_CODE.unique()))\n",
    "union = list(pd.unique(union))\n",
    "print(len(union))"
   ]
  },
  {
   "cell_type": "code",
   "execution_count": null,
   "id": "bb8f289c-c401-4112-93c6-904586041b86",
   "metadata": {},
   "outputs": [],
   "source": [
    "III_p_raw_result = III_p_raw[III_p_raw.ICD_CODE.isin(union)][['HADM_ID','ICD_CODE']].pivot_table(index='HADM_ID', columns='ICD_CODE', aggfunc='size', fill_value=np.nan)\n",
    "III_p_raw_result = III_p_raw_result.reset_index()\n",
    "\n",
    "IV_p_raw_result = IV_p_raw[IV_p_raw.ICD_CODE.isin(union)][['HADM_ID','ICD_CODE']].pivot_table(index='HADM_ID', columns='ICD_CODE', aggfunc='size', fill_value=np.nan)\n",
    "IV_p_raw_result = IV_p_raw_result.reset_index()"
   ]
  },
  {
   "cell_type": "code",
   "execution_count": null,
   "id": "11703766-a791-40cd-977c-820cdeb44fc7",
   "metadata": {},
   "outputs": [],
   "source": [
    "III_p_raw_result_missing = III_p_raw_result[union].isna().mean() * 100\n",
    "IV_p_raw_result_missing = IV_p_raw_result[union].isna().mean() * 100\n",
    "\n",
    "keep_p_ids = list(III_p_raw_result_missing[III_p_raw_result_missing<95].index) + list(IV_p_raw_result_missing[IV_p_raw_result_missing<95].index)\n",
    "keep_p_ids = list(pd.unique(keep_p_ids))\n",
    "print(len(keep_p_ids),keep_p_ids)"
   ]
  },
  {
   "cell_type": "code",
   "execution_count": null,
   "id": "bbdb6046-9d58-4fd1-b30e-a440640ce34b",
   "metadata": {},
   "outputs": [],
   "source": [
    "III_p_raw_result = III_p_raw_result[['HADM_ID']+keep_p_ids]\n",
    "IV_p_raw_result = IV_p_raw_result[['HADM_ID']+keep_p_ids]\n",
    "\n",
    "print(III_p_raw_result.shape,len(III_p_raw_result.HADM_ID.unique()))\n",
    "print(IV_p_raw_result.shape,len(IV_p_raw_result.HADM_ID.unique()))"
   ]
  },
  {
   "cell_type": "code",
   "execution_count": null,
   "id": "dfe9c165-4f6e-4a67-97ce-fd73e8a6dab8",
   "metadata": {},
   "outputs": [],
   "source": [
    "III_p_raw_result.loc[:, III_p_raw_result.columns != 'HADM_ID'] = III_p_raw_result.loc[:, III_p_raw_result.columns != 'HADM_ID'].notna().astype(int)\n",
    "IV_p_raw_result.loc[:, IV_p_raw_result.columns != 'HADM_ID'] = IV_p_raw_result.loc[:, IV_p_raw_result.columns != 'HADM_ID'].notna().astype(int)"
   ]
  },
  {
   "cell_type": "code",
   "execution_count": null,
   "id": "d3297aa6-c8ec-412b-9a32-4b1d570ecd67",
   "metadata": {},
   "outputs": [],
   "source": [
    "III_p_raw_result.to_csv('output/III_P.csv',index=False)\n",
    "IV_p_raw_result.to_csv('output/IV_P.csv',index=False)"
   ]
  },
  {
   "cell_type": "code",
   "execution_count": null,
   "id": "a5dfb71e-a3cf-4ce0-8072-414a4d5f378a",
   "metadata": {},
   "outputs": [],
   "source": []
  },
  {
   "cell_type": "markdown",
   "id": "1a4101e5-c391-4770-b978-7f255105fe54",
   "metadata": {},
   "source": [
    "## Drugs"
   ]
  },
  {
   "cell_type": "code",
   "execution_count": null,
   "id": "1ddcca42-f174-460d-bc9e-c710ce96ae70",
   "metadata": {},
   "outputs": [],
   "source": [
    "III = pd.read_csv('output/III.csv')\n",
    "III_PRESCRIPTIONS = pd.read_csv('input/PRESCRIPTIONS.csv.gz', dtype={'NDC':'category'})\n",
    "III_PRESCRIPTIONS = III_PRESCRIPTIONS[III_PRESCRIPTIONS.HADM_ID.isin(III.HADM_ID)]\n",
    "\n",
    "III_PRESCRIPTIONS.STARTDATE = pd.to_datetime(III_PRESCRIPTIONS.STARTDATE)\n",
    "III_PRESCRIPTIONS.ENDDATE = pd.to_datetime(III_PRESCRIPTIONS.ENDDATE)"
   ]
  },
  {
   "cell_type": "code",
   "execution_count": null,
   "id": "f094855d-46b4-4569-aa69-a4ca2c45df17",
   "metadata": {},
   "outputs": [],
   "source": [
    "III_PRESCRIPTIONS = III_PRESCRIPTIONS[III_PRESCRIPTIONS.ICUSTAY_ID.isin(III.ICUSTAY_ID)]\n",
    "\n",
    "III_PRESCRIPTIONS = pd.merge(III_PRESCRIPTIONS, III.drop(['HADM_ID'], axis=1), on='ICUSTAY_ID', how='left')\n",
    "III_PRESCRIPTIONS['STARTDATE_IN_RANGE'] = (III_PRESCRIPTIONS['INTIME'] <= III_PRESCRIPTIONS['STARTDATE']) & (III_PRESCRIPTIONS['STARTDATE'] <= III_PRESCRIPTIONS['OUTTIME'])\n",
    "III_PRESCRIPTIONS['STARTDATE_afterICU'] = (III_PRESCRIPTIONS['OUTTIME'] <= III_PRESCRIPTIONS['STARTDATE']) & (III_PRESCRIPTIONS['STARTDATE'] <= III_PRESCRIPTIONS['DISCHTIME'])\n",
    "\n",
    "III_PRESCRIPTIONS = III_PRESCRIPTIONS[III_PRESCRIPTIONS.STARTDATE_afterICU==True]\n",
    "III_PRESCRIPTIONS = III_PRESCRIPTIONS[['HADM_ID','ICUSTAY_ID','DRUG','NDC']]\n",
    "III_PRESCRIPTIONS.shape"
   ]
  },
  {
   "cell_type": "code",
   "execution_count": null,
   "id": "c5bfec4a-dd44-4b73-aaf2-ff3dde352aa1",
   "metadata": {},
   "outputs": [],
   "source": [
    "# Step 1: 检查每个 DRUG 是否有非空的 NDC，如果没有，删除这些 DRUG 对应的所有行\n",
    "drugs_with_non_empty_ndc = III_PRESCRIPTIONS.dropna(subset=['NDC']).groupby('DRUG').filter(lambda x: x['NDC'].notna().any())\n",
    "III_PRESCRIPTIONS = III_PRESCRIPTIONS[III_PRESCRIPTIONS['DRUG'].isin(drugs_with_non_empty_ndc['DRUG'])]\n",
    "\n",
    "# Step 2: 按照 DRUG 分组，计算每个 DRUG 对应的最常见的 NDC\n",
    "most_common_ndc = III_PRESCRIPTIONS.dropna(subset=['NDC']).groupby('DRUG')['NDC'].agg(lambda x: x.mode()[0])\n",
    "\n",
    "# Step 3: 用最常见的 NDC 填补缺失值\n",
    "III_PRESCRIPTIONS['NDC'] = III_PRESCRIPTIONS.apply(lambda row: most_common_ndc[row['DRUG']] if pd.isna(row['NDC']) else row['NDC'], axis=1)\n",
    "\n",
    "III_PRESCRIPTIONS = III_PRESCRIPTIONS.reset_index(drop=True)\n",
    "III_PRESCRIPTIONS = III_PRESCRIPTIONS[~(III_PRESCRIPTIONS.NDC=='0')]\n",
    "III_PRESCRIPTIONS = III_PRESCRIPTIONS.drop_duplicates(keep='first')\n",
    "III_PRESCRIPTIONS = III_PRESCRIPTIONS.reset_index(drop=True)\n",
    "print(III_PRESCRIPTIONS.shape,len(III_PRESCRIPTIONS.HADM_ID.unique()),len(III_PRESCRIPTIONS.ICUSTAY_ID.unique()))"
   ]
  },
  {
   "cell_type": "code",
   "execution_count": null,
   "id": "593f0eb3-7be1-4018-b1bb-f87801623082",
   "metadata": {},
   "outputs": [],
   "source": [
    "IV = pd.read_csv('output/IV.csv')\n",
    "IV_PRESCRIPTIONS = pd.read_csv('input/prescriptions.csv.gz', dtype={'ndc':'category'})\n",
    "IV_PRESCRIPTIONS.columns = IV_PRESCRIPTIONS.columns.str.upper()\n",
    "IV_PRESCRIPTIONS = IV_PRESCRIPTIONS[IV_PRESCRIPTIONS.HADM_ID.isin(IV.HADM_ID)]\n",
    "\n",
    "IV_PRESCRIPTIONS.STARTTIME = pd.to_datetime(IV_PRESCRIPTIONS.STARTTIME).dt.date\n",
    "IV_PRESCRIPTIONS.STOPTIME = pd.to_datetime(IV_PRESCRIPTIONS.STOPTIME).dt.date\n",
    "\n",
    "IV_PRESCRIPTIONS_isna = pd.merge(IV_PRESCRIPTIONS, IV, on='HADM_ID', how='left')\n",
    "\n",
    "IV_PRESCRIPTIONS_isna['STARTDATE_IN_RANGE'] = (IV_PRESCRIPTIONS_isna['INTIME'] <= IV_PRESCRIPTIONS_isna['STARTTIME']) & (IV_PRESCRIPTIONS_isna['STARTTIME'] <= IV_PRESCRIPTIONS_isna['OUTTIME'])\n",
    "IV_PRESCRIPTIONS_isna['STARTDATE_afterICU'] = (IV_PRESCRIPTIONS_isna['OUTTIME'] <= IV_PRESCRIPTIONS_isna['STARTTIME']) & (IV_PRESCRIPTIONS_isna['STARTTIME'] <= IV_PRESCRIPTIONS_isna['DISCHTIME'])\n",
    "\n",
    "IV_PRESCRIPTIONS = IV_PRESCRIPTIONS_isna[IV_PRESCRIPTIONS_isna.STARTDATE_afterICU==True]\n",
    "IV_PRESCRIPTIONS = IV_PRESCRIPTIONS[['HADM_ID','ICUSTAY_ID','DRUG','NDC']]\n",
    "print(IV_PRESCRIPTIONS.shape,len(IV_PRESCRIPTIONS.HADM_ID.unique()),len(IV_PRESCRIPTIONS.ICUSTAY_ID.unique()))"
   ]
  },
  {
   "cell_type": "code",
   "execution_count": null,
   "id": "5fe113ca-b282-4321-828a-1e7cb3325910",
   "metadata": {},
   "outputs": [],
   "source": [
    "# Step 1: 检查每个 DRUG 是否有非空的 NDC，如果没有，删除这些 DRUG 对应的所有行\n",
    "drugs_with_non_empty_ndc = IV_PRESCRIPTIONS.dropna(subset=['NDC']).groupby('DRUG').filter(lambda x: x['NDC'].notna().any())\n",
    "IV_PRESCRIPTIONS = IV_PRESCRIPTIONS[IV_PRESCRIPTIONS['DRUG'].isin(drugs_with_non_empty_ndc['DRUG'])]\n",
    "\n",
    "# Step 2: 按照 DRUG 分组，计算每个 DRUG 对应的最常见的 NDC\n",
    "most_common_ndc = IV_PRESCRIPTIONS.dropna(subset=['NDC']).groupby('DRUG')['NDC'].agg(lambda x: x.mode()[0])\n",
    "\n",
    "# Step 3: 用最常见的 NDC 填补缺失值\n",
    "IV_PRESCRIPTIONS['NDC'] = IV_PRESCRIPTIONS.apply(lambda row: most_common_ndc[row['DRUG']] if pd.isna(row['NDC']) else row['NDC'], axis=1)\n",
    "\n",
    "IV_PRESCRIPTIONS = IV_PRESCRIPTIONS.reset_index(drop=True)\n",
    "IV_PRESCRIPTIONS = IV_PRESCRIPTIONS[~(IV_PRESCRIPTIONS.NDC=='0')]\n",
    "\n",
    "IV_PRESCRIPTIONS = IV_PRESCRIPTIONS.drop_duplicates(keep='first')\n",
    "IV_PRESCRIPTIONS = IV_PRESCRIPTIONS.reset_index(drop=True)\n",
    "print(IV_PRESCRIPTIONS.shape,len(IV_PRESCRIPTIONS.HADM_ID.unique()),len(IV_PRESCRIPTIONS.ICUSTAY_ID.unique()))"
   ]
  },
  {
   "cell_type": "code",
   "execution_count": null,
   "id": "5fc185ef-3b9b-4e0d-8e13-e7c5632c095c",
   "metadata": {},
   "outputs": [],
   "source": [
    "III_PRESCRIPTIONS.to_csv('ouput/III_M.csv',index=False)\n",
    "IV_PRESCRIPTIONS.to_csv('ouput/IV_M.csv',index=False)"
   ]
  }
 ],
 "metadata": {
  "kernelspec": {
   "display_name": "Python 3 (ipykernel)",
   "language": "python",
   "name": "python3"
  },
  "language_info": {
   "codemirror_mode": {
    "name": "ipython",
    "version": 3
   },
   "file_extension": ".py",
   "mimetype": "text/x-python",
   "name": "python",
   "nbconvert_exporter": "python",
   "pygments_lexer": "ipython3",
   "version": "3.8.5"
  }
 },
 "nbformat": 4,
 "nbformat_minor": 5
}
