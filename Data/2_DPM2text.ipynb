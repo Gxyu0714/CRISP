{
 "cells": [
  {
   "cell_type": "code",
   "execution_count": 1,
   "id": "73a73fca-2467-4a7b-aa65-ac4237695180",
   "metadata": {},
   "outputs": [],
   "source": [
    "import numpy as np\n",
    "import dill\n",
    "import pandas as pd\n",
    "\n",
    "import datetime as dt\n",
    "from tqdm import tqdm\n",
    "from collections import defaultdict, Counter\n",
    "\n",
    "import warnings\n",
    "# 禁用所有警告\n",
    "warnings.filterwarnings(\"ignore\")"
   ]
  },
  {
   "cell_type": "markdown",
   "id": "0e930dcc-afda-4edc-84f0-00758c01bf70",
   "metadata": {},
   "source": [
    "## Diagnoses"
   ]
  },
  {
   "cell_type": "code",
   "execution_count": null,
   "id": "ae7bf0f6-db66-40f9-8d09-334d32750e12",
   "metadata": {},
   "outputs": [],
   "source": [
    "D_ICD_DIAGNOSES = pd.read_csv('input/D_ICD_DIAGNOSES.csv.gz')\n",
    "D_ICD_DIAGNOSES.columns = ['ICD_CODE', 'ICD_VERSION', 'ICD_TEXT']\n",
    "\n",
    "III_diagnoses = pd.read_csv('output/III_D.csv')\n",
    "IV_diagnoses = pd.read_csv('output/IV_D.csv')"
   ]
  },
  {
   "cell_type": "code",
   "execution_count": null,
   "id": "a565bfa1-47c4-4c88-9c7c-79e7710ba4de",
   "metadata": {},
   "outputs": [],
   "source": [
    "III_diagnoses['ICD_CODES'] = III_diagnoses.drop('HADM_ID', axis=1).apply(lambda row: [col for col in row.index if row[col] == 1], axis=1)\n",
    "III_diagnoses['ICD_TEXTs'] = III_diagnoses.drop('HADM_ID', axis=1).apply(lambda row: [D_ICD_DIAGNOSES[D_ICD_DIAGNOSES['ICD_CODE'] == col]['ICD_TEXT'].values[0] for col in row.index if row[col] == 1], axis=1)"
   ]
  },
  {
   "cell_type": "code",
   "execution_count": null,
   "id": "7299c5da-2b3f-4897-a3c8-0a6f061a7264",
   "metadata": {},
   "outputs": [],
   "source": [
    "IV_diagnoses['ICD_CODES'] = IV_diagnoses.drop('HADM_ID', axis=1).apply(lambda row: [col for col in row.index if row[col] == 1], axis=1)\n",
    "IV_diagnoses['ICD_TEXTs'] = IV_diagnoses.drop('HADM_ID', axis=1).apply(lambda row: [D_ICD_DIAGNOSES[D_ICD_DIAGNOSES['ICD_CODE'] == col]['ICD_TEXT'].values[0] for col in row.index if row[col] == 1], axis=1)"
   ]
  },
  {
   "cell_type": "code",
   "execution_count": null,
   "id": "9c826655-d7b3-4e67-ae40-ddba855fae03",
   "metadata": {},
   "outputs": [],
   "source": [
    "dill.dump(III_diagnoses, open('ouput/III_D_1.pkl','wb'))\n",
    "dill.dump(IV_diagnoses, open('ouput/IV_D_1.pkl','wb'))"
   ]
  },
  {
   "cell_type": "code",
   "execution_count": null,
   "id": "4cca6f24-7c7a-4ec4-a6d8-fdc4c298ff5e",
   "metadata": {},
   "outputs": [],
   "source": []
  },
  {
   "cell_type": "markdown",
   "id": "69ddc8ee-c660-4128-9ce5-1c7710ca30d9",
   "metadata": {},
   "source": [
    "## Procedure"
   ]
  },
  {
   "cell_type": "code",
   "execution_count": null,
   "id": "d48504dc-114c-415d-9934-99eec3a4b0fb",
   "metadata": {},
   "outputs": [],
   "source": [
    "p_dic = pd.read_csv('input/d_icd_procedures.csv.gz')\n",
    "p_dic.columns = ['ICD_CODE', 'ICD_VERSION', 'ICD_TEXT']\n",
    "\n",
    "III_p = pd.read_csv('output/III_P.csv')\n",
    "IV_p = pd.read_csv('output/IV_P.csv')"
   ]
  },
  {
   "cell_type": "code",
   "execution_count": null,
   "id": "50dc0bab-ca0d-4973-b4b0-498ccb6c044c",
   "metadata": {},
   "outputs": [],
   "source": [
    "# 方法：通过遍历每个 HADM_ID，将等于1的列名收集为列表\n",
    "III['ICD_CODES'] = III.drop(['HADM_ID','ICUSTAY_ID'], axis=1).apply(lambda row: [col for col in row.index if row[col] == 1], axis=1)\n",
    "# 方法：通过遍历每个 HADM_ID，将等于1的列名收集为列表\n",
    "III['ICD_TEXTs'] = III.drop(['HADM_ID','ICUSTAY_ID'], axis=1).apply(lambda row: [p_dic[p_dic['ICD_CODE'] == int(col)]['ICD_TEXT'].values[0] for col in row.index if row[col] == 1], axis=1)"
   ]
  },
  {
   "cell_type": "code",
   "execution_count": null,
   "id": "e0142ee1-37af-4852-aa65-259f4835a3b4",
   "metadata": {},
   "outputs": [],
   "source": [
    "IV['ICD_CODES'] = IV.drop(['HADM_ID','ICUSTAY_ID'], axis=1).apply(lambda row: [col for col in row.index if row[col] == 1], axis=1)\n",
    "IV['ICD_TEXTs'] = IV.drop(['HADM_ID','ICUSTAY_ID'], axis=1).apply(lambda row: [p_dic[p_dic['ICD_CODE'] == int(col)]['ICD_TEXT'].values[0] for col in row.index if row[col] == 1], axis=1)"
   ]
  },
  {
   "cell_type": "code",
   "execution_count": null,
   "id": "ccf00986-72e6-47c3-9cea-d896fa06fca2",
   "metadata": {},
   "outputs": [],
   "source": [
    "dill.dump(III, open('D:/2025BMC_Mortaility/Code_data/MIMICs/Data/III_P_1.pkl','wb'))\n",
    "dill.dump(IV, open('D:/2025BMC_Mortaility/Code_data/MIMICs/Data/IV_P_1.pkl','wb'))"
   ]
  },
  {
   "cell_type": "code",
   "execution_count": null,
   "id": "1f713a66-9cc1-4103-8b0e-5e082529f2c1",
   "metadata": {},
   "outputs": [],
   "source": []
  },
  {
   "cell_type": "markdown",
   "id": "a6caaeb5-70a8-4232-b3c3-69855249f0df",
   "metadata": {},
   "source": [
    "## DRUG"
   ]
  },
  {
   "cell_type": "code",
   "execution_count": null,
   "id": "f79a333d-4dc6-48c4-a085-9d346656c71b",
   "metadata": {},
   "outputs": [],
   "source": [
    "III_PRESCRIPTIONS = pd.read_csv('output/III_M_0.csv', dtype={'NDC':'str'})\n",
    "IV_PRESCRIPTIONS = pd.read_csv('output/IV_M_0.csv', dtype={'NDC':'str'})"
   ]
  },
  {
   "cell_type": "code",
   "execution_count": null,
   "id": "d21f8642-bf2b-4707-8056-1d8690adcd11",
   "metadata": {},
   "outputs": [],
   "source": [
    "III_PRESCRIPTIONS = III_PRESCRIPTIONS[['ICUSTAY_ID','DRUG','NDC']]\n",
    "IV_PRESCRIPTIONS = IV_PRESCRIPTIONS[['ICUSTAY_ID','DRUG','NDC']]\n",
    "\n",
    "III_PRESCRIPTIONS = III_PRESCRIPTIONS.drop_duplicates(keep='first')\n",
    "IV_PRESCRIPTIONS = IV_PRESCRIPTIONS.drop_duplicates(keep='first')\n",
    "\n",
    "print(III_PRESCRIPTIONS.shape,IV_PRESCRIPTIONS.shape)"
   ]
  },
  {
   "cell_type": "code",
   "execution_count": null,
   "id": "e3de31ce-0e13-4ac0-8838-fc6dbe403fb9",
   "metadata": {},
   "outputs": [],
   "source": [
    "union = list(set(III_PRESCRIPTIONS.NDC.unique())&set(IV_PRESCRIPTIONS.NDC.unique()))\n",
    "union = list(pd.unique(union))\n",
    "print(len(union))"
   ]
  },
  {
   "cell_type": "code",
   "execution_count": null,
   "id": "758a9377-68a9-416f-a944-ecda98fc0b1a",
   "metadata": {},
   "outputs": [],
   "source": [
    "III_m = III_PRESCRIPTIONS[III_PRESCRIPTIONS.NDC.isin(union)].drop_duplicates(subset = ['ICUSTAY_ID','NDC'],keep='first')[['ICUSTAY_ID','NDC']].pivot_table(index='ICUSTAY_ID', columns='NDC', aggfunc='size', fill_value=np.nan)\n",
    "III_m = III_m.reset_index()\n",
    "\n",
    "IV_m = IV_PRESCRIPTIONS[IV_PRESCRIPTIONS.NDC.isin(union)].drop_duplicates(subset = ['ICUSTAY_ID','NDC'],keep='first')[['ICUSTAY_ID','NDC']].pivot_table(index='ICUSTAY_ID', columns='NDC', aggfunc='size', fill_value=np.nan)\n",
    "IV_m = IV_m.reset_index()\n",
    "\n",
    "III_m_missing = III_m[union].isna().mean() * 100\n",
    "IV_m_missing = IV_m[union].isna().mean() * 100\n",
    "\n",
    "keep_p_ids = list(III_m_missing[III_m_missing<95].index) + list(IV_m_missing[IV_m_missing<95].index)\n",
    "keep_p_ids = list(pd.unique(keep_p_ids))\n",
    "print(len(keep_p_ids),keep_p_ids)"
   ]
  },
  {
   "cell_type": "code",
   "execution_count": null,
   "id": "54020317-91b8-493a-80bb-1ea21b2ff2b8",
   "metadata": {},
   "outputs": [],
   "source": [
    "III_PRESCRIPTIONS = III_PRESCRIPTIONS[III_PRESCRIPTIONS.NDC.isin(keep_p_ids)]\n",
    "IV_PRESCRIPTIONS = IV_PRESCRIPTIONS[IV_PRESCRIPTIONS.NDC.isin(keep_p_ids)]\n",
    "\n",
    "print(III_PRESCRIPTIONS.shape,IV_PRESCRIPTIONS.shape)\n",
    "print(len(III_PRESCRIPTIONS.NDC.unique()),len(IV_PRESCRIPTIONS.NDC.unique()))"
   ]
  },
  {
   "cell_type": "code",
   "execution_count": null,
   "id": "0ef5f87d-c901-4416-86c4-606c809f82ca",
   "metadata": {},
   "outputs": [],
   "source": [
    "with open('input/rxnorm2RXCUI.txt', 'r') as f:\n",
    "    rxnorm2RXCUI = eval(f.read())\n",
    "    \n",
    "III_PRESCRIPTIONS['RXCUI'] = III_PRESCRIPTIONS['NDC'].map(rxnorm2RXCUI)\n",
    "IV_PRESCRIPTIONS['RXCUI'] = IV_PRESCRIPTIONS['NDC'].map(rxnorm2RXCUI)"
   ]
  },
  {
   "cell_type": "code",
   "execution_count": null,
   "id": "0b364af5-db5d-463f-b22a-90aa5883e084",
   "metadata": {},
   "outputs": [],
   "source": [
    "III_PRESCRIPTIONS.dropna(inplace=True)\n",
    "IV_PRESCRIPTIONS.dropna(inplace=True)\n",
    "print(III_PRESCRIPTIONS.shape,IV_PRESCRIPTIONS.shape)"
   ]
  },
  {
   "cell_type": "code",
   "execution_count": null,
   "id": "2fa42dc7-4324-4faf-b0f4-6dd394fb6be6",
   "metadata": {},
   "outputs": [],
   "source": [
    "III_PRESCRIPTIONS = III_PRESCRIPTIONS[~(III_PRESCRIPTIONS.RXCUI == '')]\n",
    "IV_PRESCRIPTIONS = IV_PRESCRIPTIONS[~(IV_PRESCRIPTIONS.RXCUI == '')]"
   ]
  },
  {
   "cell_type": "code",
   "execution_count": null,
   "id": "426636b9-8bf9-46eb-9e41-7b178e054c22",
   "metadata": {},
   "outputs": [],
   "source": [
    "rxnorm2atc4 = pd.read_csv('input/RXCUI2atc4.csv')\n",
    "rxnorm2atc4 = rxnorm2atc4.drop(columns=['YEAR', 'MONTH', 'NDC'])\n",
    "rxnorm2atc4.drop_duplicates(subset=['RXCUI'], inplace=True)"
   ]
  },
  {
   "cell_type": "code",
   "execution_count": null,
   "id": "45e13903-e5a2-476b-900c-96fb8c5658ea",
   "metadata": {},
   "outputs": [],
   "source": [
    "III_PRESCRIPTIONS['RXCUI'] = III_PRESCRIPTIONS['RXCUI'].astype('int64')\n",
    "III_PRESCRIPTIONS = III_PRESCRIPTIONS.reset_index(drop=True)\n",
    "print(III_PRESCRIPTIONS.shape,IV_PRESCRIPTIONS.shape)\n",
    "\n",
    "III_PRESCRIPTIONS = III_PRESCRIPTIONS.merge(rxnorm2atc4, on=['RXCUI'])\n",
    "III_PRESCRIPTIONS = III_PRESCRIPTIONS.rename(columns={'ATC4': 'ATC3'})\n",
    "print(III_PRESCRIPTIONS.shape,IV_PRESCRIPTIONS.shape)"
   ]
  },
  {
   "cell_type": "code",
   "execution_count": null,
   "id": "0a0bb7c7-6cc4-4344-add1-6438ae11d249",
   "metadata": {},
   "outputs": [],
   "source": [
    "IV_PRESCRIPTIONS['RXCUI'] = IV_PRESCRIPTIONS['RXCUI'].astype('int64')\n",
    "IV_PRESCRIPTIONS = IV_PRESCRIPTIONS.reset_index(drop=True)\n",
    "print(III_PRESCRIPTIONS.shape,IV_PRESCRIPTIONS.shape)\n",
    "\n",
    "IV_PRESCRIPTIONS = IV_PRESCRIPTIONS.merge(rxnorm2atc4, on=['RXCUI'])\n",
    "IV_PRESCRIPTIONS = IV_PRESCRIPTIONS.rename(columns={'ATC4': 'ATC3'})\n",
    "print(III_PRESCRIPTIONS.shape,IV_PRESCRIPTIONS.shape)"
   ]
  },
  {
   "cell_type": "code",
   "execution_count": null,
   "id": "a05f10f2-5b10-46e7-bae6-ff5f38129648",
   "metadata": {},
   "outputs": [],
   "source": [
    "print(len(III_PRESCRIPTIONS.NDC.unique()),len(IV_PRESCRIPTIONS.NDC.unique()))\n",
    "print(len(III_PRESCRIPTIONS.ATC3.unique()),len(IV_PRESCRIPTIONS.ATC3.unique()))"
   ]
  },
  {
   "cell_type": "code",
   "execution_count": null,
   "id": "d4759a86-b1db-4617-b91d-2d2579a65325",
   "metadata": {},
   "outputs": [],
   "source": [
    "def ATC3toDrug(med_pd):\n",
    "    atc3toDrugDict = {}\n",
    "    for atc3, drugname in med_pd[['ATC3', 'DRUG']].values:\n",
    "        if atc3 in atc3toDrugDict:\n",
    "            atc3toDrugDict[atc3].add(drugname)  \n",
    "        else:\n",
    "            atc3toDrugDict[atc3] = {drugname}  \n",
    "\n",
    "    return atc3toDrugDict"
   ]
  },
  {
   "cell_type": "code",
   "execution_count": null,
   "id": "9ae02686-dd08-42b7-86e8-b0d3e2f3f191",
   "metadata": {},
   "outputs": [],
   "source": [
    "III_atc3toDrug = ATC3toDrug(III_PRESCRIPTIONS)\n",
    "IV_atc3toDrug = ATC3toDrug(IV_PRESCRIPTIONS)\n",
    "\n",
    "print(len(III_atc3toDrug),len(IV_atc3toDrug))"
   ]
  },
  {
   "cell_type": "code",
   "execution_count": null,
   "id": "66021062-861c-4bfe-9c5a-b06541ba087e",
   "metadata": {},
   "outputs": [],
   "source": [
    "druginfo = pd.read_csv('input/drugbank_drugs_info.csv')"
   ]
  },
  {
   "cell_type": "code",
   "execution_count": null,
   "id": "afa96aee-f931-450b-bec9-983e23f5663b",
   "metadata": {},
   "outputs": [],
   "source": [
    "def atc3toSMILES(ATC3toDrugDict, druginfo):\n",
    "    drug2smiles = {}\n",
    "    atc3tosmiles = {}\n",
    "    for drugname, smiles in druginfo[['name', 'moldb_smiles']].values:\n",
    "        if type(smiles) == type('a'):\n",
    "            drug2smiles[drugname] = smiles\n",
    "    for atc3, drug in ATC3toDrugDict.items():\n",
    "        temp = []\n",
    "        for d in drug:\n",
    "            try:\n",
    "                temp.append(drug2smiles[d])\n",
    "            except:\n",
    "                pass\n",
    "        if len(temp) > 0:\n",
    "            atc3tosmiles[atc3] = temp[:3]\n",
    "    \n",
    "    return atc3tosmiles"
   ]
  },
  {
   "cell_type": "code",
   "execution_count": null,
   "id": "d6ced612-de9c-4f99-9a93-5a63bdf76e2b",
   "metadata": {},
   "outputs": [],
   "source": [
    "III_SMIL = atc3toSMILES(III_atc3toDrug,druginfo)\n",
    "IV_SMIL = atc3toSMILES(IV_atc3toDrug,druginfo)\n",
    "print(len(III_SMIL),len(IV_SMIL))"
   ]
  },
  {
   "cell_type": "code",
   "execution_count": null,
   "id": "31376126-c7c2-4155-ba7c-74a4a0be44eb",
   "metadata": {},
   "outputs": [],
   "source": [
    "III_med_pd = III_PRESCRIPTIONS[III_PRESCRIPTIONS.ATC3.isin(III_SMIL.keys())]\n",
    "III_med_pd['SMILES'] = III_med_pd['ATC3'].map(lambda x: '\\t'.join(III_SMIL[x]))\n",
    "\n",
    "IV_med_pd = IV_PRESCRIPTIONS[IV_PRESCRIPTIONS.ATC3.isin(IV_SMIL.keys())]\n",
    "IV_med_pd['SMILES'] = IV_med_pd['ATC3'].map(lambda x: '\\t'.join(IV_SMIL[x]))\n",
    "\n",
    "print(III_med_pd.shape,IV_med_pd.shape)\n",
    "print(len(III_med_pd.ATC3.unique()),len(IV_med_pd.ATC3.unique()))\n",
    "print(len(III_med_pd.NDC.unique()),len(IV_med_pd.NDC.unique()))"
   ]
  },
  {
   "cell_type": "code",
   "execution_count": null,
   "id": "22fd859a-49de-41df-a0aa-847db2c346a6",
   "metadata": {},
   "outputs": [],
   "source": [
    "union = list(set(III_med_pd.NDC.unique())&set(IV_med_pd.NDC.unique()))\n",
    "union = list(pd.unique(union))\n",
    "print(len(union))"
   ]
  },
  {
   "cell_type": "code",
   "execution_count": null,
   "id": "cefa9456-197a-4593-a15a-7099b43488ef",
   "metadata": {},
   "outputs": [],
   "source": [
    "III_med_pd = III_med_pd[III_med_pd.NDC.isin(union)]\n",
    "IV_med_pd = IV_med_pd[IV_med_pd.NDC.isin(union)]\n",
    "\n",
    "print(III_med_pd.shape,IV_med_pd.shape)\n",
    "print(len(III_med_pd.ICUSTAY_ID.unique()),len(IV_med_pd.ICUSTAY_ID.unique()))\n",
    "print(len(III_med_pd.NDC.unique()),len(IV_med_pd.NDC.unique()))\n",
    "print(len(III_med_pd.ATC3.unique()),len(IV_med_pd.ATC3.unique()))\n",
    "print(len(III_med_pd.SMILES.unique()),len(IV_med_pd.SMILES.unique()))"
   ]
  },
  {
   "cell_type": "code",
   "execution_count": null,
   "id": "57bf3a48-9570-4cd7-b6f8-3a81f4474af4",
   "metadata": {},
   "outputs": [],
   "source": [
    "III_pivot = III_med_pd[['ICUSTAY_ID','ATC3']]\n",
    "IV_pivot = IV_med_pd[['ICUSTAY_ID','ATC3']]\n",
    "\n",
    "III_pivot = III_pivot.drop_duplicates(keep='first')\n",
    "IV_pivot = IV_pivot.drop_duplicates(keep='first')"
   ]
  },
  {
   "cell_type": "code",
   "execution_count": null,
   "id": "04679b80-c0e7-47eb-ae22-ec658e4e2b10",
   "metadata": {},
   "outputs": [],
   "source": [
    "III_pivot = III_pivot.pivot_table(index='ICUSTAY_ID', columns='ATC3', aggfunc='size', fill_value=np.nan)\n",
    "III_pivot = III_pivot.reset_index()\n",
    "III_pivot.head()"
   ]
  },
  {
   "cell_type": "code",
   "execution_count": null,
   "id": "a9db68d8-237f-44cd-9a78-f80aa2f2b177",
   "metadata": {},
   "outputs": [],
   "source": [
    "IV_pivot = IV_pivot.pivot_table(index='ICUSTAY_ID', columns='ATC3', aggfunc='size', fill_value=np.nan)\n",
    "IV_pivot = IV_pivot.reset_index()\n",
    "IV_pivot.head()"
   ]
  },
  {
   "cell_type": "code",
   "execution_count": null,
   "id": "499d58c5-33f7-4bb6-801d-a53fa13e90a3",
   "metadata": {},
   "outputs": [],
   "source": [
    "III_pivot.loc[:, III_pivot.columns != 'ICUSTAY_ID'] = III_pivot.loc[:, III_pivot.columns != 'ICUSTAY_ID'].notna().astype(int)\n",
    "IV_pivot.loc[:, IV_pivot.columns != 'ICUSTAY_ID'] = IV_pivot.loc[:, IV_pivot.columns != 'ICUSTAY_ID'].notna().astype(int)"
   ]
  },
  {
   "cell_type": "code",
   "execution_count": null,
   "id": "78214a32-a75a-4d87-9716-086d28dcda24",
   "metadata": {},
   "outputs": [],
   "source": [
    "III_0 = III_med_pd.groupby(by=['ICUSTAY_ID'])['ATC3'].unique().reset_index()\n",
    "III_00 = III_0.merge(III_med_pd.groupby(by=['ICUSTAY_ID'])['SMILES'].unique().reset_index(), on=['ICUSTAY_ID'], how='inner')\n",
    "\n",
    "IV_0 = IV_med_pd.groupby(by=['ICUSTAY_ID'])['ATC3'].unique().reset_index()\n",
    "IV_00 = IV_0.merge(IV_med_pd.groupby(by=['ICUSTAY_ID'])['SMILES'].unique().reset_index(), on=['ICUSTAY_ID'], how='inner')\n",
    "\n",
    "print(III_00.shape,IV_00.shape)"
   ]
  },
  {
   "cell_type": "code",
   "execution_count": null,
   "id": "9b3e58c4-b2a5-435c-9696-626bb218976e",
   "metadata": {},
   "outputs": [],
   "source": [
    "III_FM = pd.merge(III_pivot,III_00,on='ICUSTAY_ID',how='left')\n",
    "IV_FM = pd.merge(IV_pivot,IV_00,on='ICUSTAY_ID',how='left')"
   ]
  },
  {
   "cell_type": "code",
   "execution_count": null,
   "id": "7aa73f5a-ae73-46cc-bbfe-33c88ceaa4b7",
   "metadata": {},
   "outputs": [],
   "source": [
    "dill.dump(III_FM, open('output/III_M_1.pkl','wb'))\n",
    "dill.dump(IV_FM, open('output/IV_M_1.pkl','wb'))"
   ]
  }
 ],
 "metadata": {
  "kernelspec": {
   "display_name": "Python 3 (ipykernel)",
   "language": "python",
   "name": "python3"
  },
  "language_info": {
   "codemirror_mode": {
    "name": "ipython",
    "version": 3
   },
   "file_extension": ".py",
   "mimetype": "text/x-python",
   "name": "python",
   "nbconvert_exporter": "python",
   "pygments_lexer": "ipython3",
   "version": "3.8.5"
  }
 },
 "nbformat": 4,
 "nbformat_minor": 5
}
